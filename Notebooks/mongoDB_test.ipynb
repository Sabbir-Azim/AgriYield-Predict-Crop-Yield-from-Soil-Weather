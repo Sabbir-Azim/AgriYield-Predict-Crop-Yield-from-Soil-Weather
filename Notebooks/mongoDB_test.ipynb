{
 "cells": [
  {
   "cell_type": "code",
   "execution_count": 1,
   "id": "29da80bf",
   "metadata": {},
   "outputs": [
    {
     "name": "stdout",
     "output_type": "stream",
     "text": [
      "ok\n"
     ]
    }
   ],
   "source": [
    "print('ok')"
   ]
  },
  {
   "cell_type": "code",
   "execution_count": 3,
   "id": "4cded5f0",
   "metadata": {},
   "outputs": [],
   "source": [
    "import pandas as pd"
   ]
  },
  {
   "cell_type": "code",
   "execution_count": 4,
   "id": "6a95bf0d",
   "metadata": {},
   "outputs": [
    {
     "data": {
      "text/plain": [
       "'f:\\\\Projects\\\\AgriYield-Predict-Crop-Yield-from-Soil-Weather\\\\Notebooks'"
      ]
     },
     "execution_count": 4,
     "metadata": {},
     "output_type": "execute_result"
    }
   ],
   "source": [
    "%pwd"
   ]
  },
  {
   "cell_type": "code",
   "execution_count": 19,
   "id": "807e7e5b",
   "metadata": {},
   "outputs": [],
   "source": [
    "train = pd.read_csv(\"train.csv\")\n",
    "test = pd.read_csv(\"test.csv\")"
   ]
  },
  {
   "cell_type": "code",
   "execution_count": 20,
   "id": "3a1eebdf",
   "metadata": {},
   "outputs": [],
   "source": [
    "train_data = train.to_dict(orient='records')\n",
    "test_data = test.to_dict(orient='records')"
   ]
  },
  {
   "cell_type": "code",
   "execution_count": 22,
   "id": "86b66283",
   "metadata": {},
   "outputs": [
    {
     "data": {
      "text/plain": [
       "{'field_id': 'F00001',\n",
       " 'soil_ph': 6.25,\n",
       " 'organic_matter': 2.66,\n",
       " 'sand_pct': 41.6,\n",
       " 'temperature': 25.2,\n",
       " 'humidity': 70,\n",
       " 'rainfall': 110.2,\n",
       " 'ndvi': 0.46,\n",
       " 'yield': 4105.8,\n",
       " '_id': ObjectId('68b1f437d4ac3d6eff5dc168')}"
      ]
     },
     "execution_count": 22,
     "metadata": {},
     "output_type": "execute_result"
    }
   ],
   "source": [
    "train_data[0]\n"
   ]
  },
  {
   "cell_type": "code",
   "execution_count": 23,
   "id": "ed43e908",
   "metadata": {},
   "outputs": [
    {
     "data": {
      "text/plain": [
       "{'field_id': 'T00001',\n",
       " 'soil_ph': 6.25,\n",
       " 'organic_matter': 2.15,\n",
       " 'sand_pct': 47.2,\n",
       " 'temperature': 27.9,\n",
       " 'humidity': 82,\n",
       " 'rainfall': 176.5,\n",
       " 'ndvi': 0.6,\n",
       " '_id': ObjectId('68b1f440d4ac3d6eff5de878')}"
      ]
     },
     "execution_count": 23,
     "metadata": {},
     "output_type": "execute_result"
    }
   ],
   "source": [
    "test_data[0]"
   ]
  },
  {
   "cell_type": "code",
   "execution_count": null,
   "id": "7f226d2c",
   "metadata": {},
   "outputs": [],
   "source": [
    "DB_NAME = 'AgriYield'\n",
    "COLLECTION_NAME = 'CropYield'\n",
    "CONNECTION_URL = \"\""
   ]
  },
  {
   "cell_type": "code",
   "execution_count": 17,
   "id": "1f5261cf",
   "metadata": {},
   "outputs": [],
   "source": [
    "import pymongo\n",
    "\n",
    "client = pymongo.MongoClient(CONNECTION_URL)\n",
    "db = client[DB_NAME]\n",
    "collection = db[COLLECTION_NAME]"
   ]
  },
  {
   "cell_type": "code",
   "execution_count": 21,
   "id": "4dda688b",
   "metadata": {},
   "outputs": [
    {
     "data": {
      "text/plain": [
       "InsertManyResult([ObjectId('68b1f440d4ac3d6eff5de878'), ObjectId('68b1f440d4ac3d6eff5de879'), ObjectId('68b1f440d4ac3d6eff5de87a'), ObjectId('68b1f440d4ac3d6eff5de87b'), ObjectId('68b1f440d4ac3d6eff5de87c'), ObjectId('68b1f440d4ac3d6eff5de87d'), ObjectId('68b1f440d4ac3d6eff5de87e'), ObjectId('68b1f440d4ac3d6eff5de87f'), ObjectId('68b1f440d4ac3d6eff5de880'), ObjectId('68b1f440d4ac3d6eff5de881'), ObjectId('68b1f440d4ac3d6eff5de882'), ObjectId('68b1f440d4ac3d6eff5de883'), ObjectId('68b1f440d4ac3d6eff5de884'), ObjectId('68b1f440d4ac3d6eff5de885'), ObjectId('68b1f440d4ac3d6eff5de886'), ObjectId('68b1f440d4ac3d6eff5de887'), ObjectId('68b1f440d4ac3d6eff5de888'), ObjectId('68b1f440d4ac3d6eff5de889'), ObjectId('68b1f440d4ac3d6eff5de88a'), ObjectId('68b1f440d4ac3d6eff5de88b'), ObjectId('68b1f440d4ac3d6eff5de88c'), ObjectId('68b1f440d4ac3d6eff5de88d'), ObjectId('68b1f440d4ac3d6eff5de88e'), ObjectId('68b1f440d4ac3d6eff5de88f'), ObjectId('68b1f440d4ac3d6eff5de890'), ObjectId('68b1f440d4ac3d6eff5de891'), ObjectId('68b1f440d4ac3d6eff5de892'), ObjectId('68b1f440d4ac3d6eff5de893'), ObjectId('68b1f440d4ac3d6eff5de894'), ObjectId('68b1f440d4ac3d6eff5de895'), ObjectId('68b1f440d4ac3d6eff5de896'), ObjectId('68b1f440d4ac3d6eff5de897'), ObjectId('68b1f440d4ac3d6eff5de898'), ObjectId('68b1f440d4ac3d6eff5de899'), ObjectId('68b1f440d4ac3d6eff5de89a'), ObjectId('68b1f440d4ac3d6eff5de89b'), ObjectId('68b1f440d4ac3d6eff5de89c'), ObjectId('68b1f440d4ac3d6eff5de89d'), ObjectId('68b1f440d4ac3d6eff5de89e'), ObjectId('68b1f440d4ac3d6eff5de89f'), ObjectId('68b1f440d4ac3d6eff5de8a0'), ObjectId('68b1f440d4ac3d6eff5de8a1'), ObjectId('68b1f440d4ac3d6eff5de8a2'), ObjectId('68b1f440d4ac3d6eff5de8a3'), ObjectId('68b1f440d4ac3d6eff5de8a4'), ObjectId('68b1f440d4ac3d6eff5de8a5'), ObjectId('68b1f440d4ac3d6eff5de8a6'), ObjectId('68b1f440d4ac3d6eff5de8a7'), ObjectId('68b1f440d4ac3d6eff5de8a8'), ObjectId('68b1f440d4ac3d6eff5de8a9'), ObjectId('68b1f440d4ac3d6eff5de8aa'), ObjectId('68b1f440d4ac3d6eff5de8ab'), ObjectId('68b1f440d4ac3d6eff5de8ac'), ObjectId('68b1f440d4ac3d6eff5de8ad'), ObjectId('68b1f440d4ac3d6eff5de8ae'), ObjectId('68b1f440d4ac3d6eff5de8af'), ObjectId('68b1f440d4ac3d6eff5de8b0'), ObjectId('68b1f440d4ac3d6eff5de8b1'), ObjectId('68b1f440d4ac3d6eff5de8b2'), ObjectId('68b1f440d4ac3d6eff5de8b3'), ObjectId('68b1f440d4ac3d6eff5de8b4'), ObjectId('68b1f440d4ac3d6eff5de8b5'), ObjectId('68b1f440d4ac3d6eff5de8b6'), ObjectId('68b1f440d4ac3d6eff5de8b7'), ObjectId('68b1f440d4ac3d6eff5de8b8'), ObjectId('68b1f440d4ac3d6eff5de8b9'), ObjectId('68b1f440d4ac3d6eff5de8ba'), ObjectId('68b1f440d4ac3d6eff5de8bb'), ObjectId('68b1f440d4ac3d6eff5de8bc'), ObjectId('68b1f440d4ac3d6eff5de8bd'), ObjectId('68b1f440d4ac3d6eff5de8be'), ObjectId('68b1f440d4ac3d6eff5de8bf'), ObjectId('68b1f440d4ac3d6eff5de8c0'), ObjectId('68b1f440d4ac3d6eff5de8c1'), ObjectId('68b1f440d4ac3d6eff5de8c2'), ObjectId('68b1f440d4ac3d6eff5de8c3'), ObjectId('68b1f440d4ac3d6eff5de8c4'), ObjectId('68b1f440d4ac3d6eff5de8c5'), ObjectId('68b1f440d4ac3d6eff5de8c6'), ObjectId('68b1f440d4ac3d6eff5de8c7'), ObjectId('68b1f440d4ac3d6eff5de8c8'), ObjectId('68b1f440d4ac3d6eff5de8c9'), ObjectId('68b1f440d4ac3d6eff5de8ca'), ObjectId('68b1f440d4ac3d6eff5de8cb'), ObjectId('68b1f440d4ac3d6eff5de8cc'), ObjectId('68b1f440d4ac3d6eff5de8cd'), ObjectId('68b1f440d4ac3d6eff5de8ce'), ObjectId('68b1f440d4ac3d6eff5de8cf'), ObjectId('68b1f440d4ac3d6eff5de8d0'), ObjectId('68b1f440d4ac3d6eff5de8d1'), ObjectId('68b1f440d4ac3d6eff5de8d2'), ObjectId('68b1f440d4ac3d6eff5de8d3'), ObjectId('68b1f440d4ac3d6eff5de8d4'), ObjectId('68b1f440d4ac3d6eff5de8d5'), ObjectId('68b1f440d4ac3d6eff5de8d6'), ObjectId('68b1f440d4ac3d6eff5de8d7'), ObjectId('68b1f440d4ac3d6eff5de8d8'), ObjectId('68b1f440d4ac3d6eff5de8d9'), ObjectId('68b1f440d4ac3d6eff5de8da'), ObjectId('68b1f440d4ac3d6eff5de8db'), ObjectId('68b1f440d4ac3d6eff5de8dc'), ObjectId('68b1f440d4ac3d6eff5de8dd'), ObjectId('68b1f440d4ac3d6eff5de8de'), ObjectId('68b1f440d4ac3d6eff5de8df'), ObjectId('68b1f440d4ac3d6eff5de8e0'), ObjectId('68b1f440d4ac3d6eff5de8e1'), ObjectId('68b1f440d4ac3d6eff5de8e2'), ObjectId('68b1f440d4ac3d6eff5de8e3'), ObjectId('68b1f440d4ac3d6eff5de8e4'), ObjectId('68b1f440d4ac3d6eff5de8e5'), ObjectId('68b1f440d4ac3d6eff5de8e6'), ObjectId('68b1f440d4ac3d6eff5de8e7'), ObjectId('68b1f440d4ac3d6eff5de8e8'), ObjectId('68b1f440d4ac3d6eff5de8e9'), ObjectId('68b1f440d4ac3d6eff5de8ea'), ObjectId('68b1f440d4ac3d6eff5de8eb'), ObjectId('68b1f440d4ac3d6eff5de8ec'), ObjectId('68b1f440d4ac3d6eff5de8ed'), ObjectId('68b1f440d4ac3d6eff5de8ee'), ObjectId('68b1f440d4ac3d6eff5de8ef'), ObjectId('68b1f440d4ac3d6eff5de8f0'), ObjectId('68b1f440d4ac3d6eff5de8f1'), ObjectId('68b1f440d4ac3d6eff5de8f2'), ObjectId('68b1f440d4ac3d6eff5de8f3'), ObjectId('68b1f440d4ac3d6eff5de8f4'), ObjectId('68b1f440d4ac3d6eff5de8f5'), ObjectId('68b1f440d4ac3d6eff5de8f6'), ObjectId('68b1f440d4ac3d6eff5de8f7'), ObjectId('68b1f440d4ac3d6eff5de8f8'), ObjectId('68b1f440d4ac3d6eff5de8f9'), ObjectId('68b1f440d4ac3d6eff5de8fa'), ObjectId('68b1f440d4ac3d6eff5de8fb'), ObjectId('68b1f440d4ac3d6eff5de8fc'), ObjectId('68b1f440d4ac3d6eff5de8fd'), ObjectId('68b1f440d4ac3d6eff5de8fe'), ObjectId('68b1f440d4ac3d6eff5de8ff'), ObjectId('68b1f440d4ac3d6eff5de900'), ObjectId('68b1f440d4ac3d6eff5de901'), ObjectId('68b1f440d4ac3d6eff5de902'), ObjectId('68b1f440d4ac3d6eff5de903'), ObjectId('68b1f440d4ac3d6eff5de904'), ObjectId('68b1f440d4ac3d6eff5de905'), ObjectId('68b1f440d4ac3d6eff5de906'), ObjectId('68b1f440d4ac3d6eff5de907'), ObjectId('68b1f440d4ac3d6eff5de908'), ObjectId('68b1f440d4ac3d6eff5de909'), ObjectId('68b1f440d4ac3d6eff5de90a'), ObjectId('68b1f440d4ac3d6eff5de90b'), ObjectId('68b1f440d4ac3d6eff5de90c'), ObjectId('68b1f440d4ac3d6eff5de90d'), ObjectId('68b1f440d4ac3d6eff5de90e'), ObjectId('68b1f440d4ac3d6eff5de90f'), ObjectId('68b1f440d4ac3d6eff5de910'), ObjectId('68b1f440d4ac3d6eff5de911'), ObjectId('68b1f440d4ac3d6eff5de912'), ObjectId('68b1f440d4ac3d6eff5de913'), ObjectId('68b1f440d4ac3d6eff5de914'), ObjectId('68b1f440d4ac3d6eff5de915'), ObjectId('68b1f440d4ac3d6eff5de916'), ObjectId('68b1f440d4ac3d6eff5de917'), ObjectId('68b1f440d4ac3d6eff5de918'), ObjectId('68b1f440d4ac3d6eff5de919'), ObjectId('68b1f440d4ac3d6eff5de91a'), ObjectId('68b1f440d4ac3d6eff5de91b'), ObjectId('68b1f440d4ac3d6eff5de91c'), ObjectId('68b1f440d4ac3d6eff5de91d'), ObjectId('68b1f440d4ac3d6eff5de91e'), ObjectId('68b1f440d4ac3d6eff5de91f'), ObjectId('68b1f440d4ac3d6eff5de920'), ObjectId('68b1f440d4ac3d6eff5de921'), ObjectId('68b1f440d4ac3d6eff5de922'), ObjectId('68b1f440d4ac3d6eff5de923'), ObjectId('68b1f440d4ac3d6eff5de924'), ObjectId('68b1f440d4ac3d6eff5de925'), ObjectId('68b1f440d4ac3d6eff5de926'), ObjectId('68b1f440d4ac3d6eff5de927'), ObjectId('68b1f440d4ac3d6eff5de928'), ObjectId('68b1f440d4ac3d6eff5de929'), ObjectId('68b1f440d4ac3d6eff5de92a'), ObjectId('68b1f440d4ac3d6eff5de92b'), ObjectId('68b1f440d4ac3d6eff5de92c'), ObjectId('68b1f440d4ac3d6eff5de92d'), ObjectId('68b1f440d4ac3d6eff5de92e'), ObjectId('68b1f440d4ac3d6eff5de92f'), ObjectId('68b1f440d4ac3d6eff5de930'), ObjectId('68b1f440d4ac3d6eff5de931'), ObjectId('68b1f440d4ac3d6eff5de932'), ObjectId('68b1f440d4ac3d6eff5de933'), ObjectId('68b1f440d4ac3d6eff5de934'), ObjectId('68b1f440d4ac3d6eff5de935'), ObjectId('68b1f440d4ac3d6eff5de936'), ObjectId('68b1f440d4ac3d6eff5de937'), ObjectId('68b1f440d4ac3d6eff5de938'), ObjectId('68b1f440d4ac3d6eff5de939'), ObjectId('68b1f440d4ac3d6eff5de93a'), ObjectId('68b1f440d4ac3d6eff5de93b'), ObjectId('68b1f440d4ac3d6eff5de93c'), ObjectId('68b1f440d4ac3d6eff5de93d'), ObjectId('68b1f440d4ac3d6eff5de93e'), ObjectId('68b1f440d4ac3d6eff5de93f'), ObjectId('68b1f440d4ac3d6eff5de940'), ObjectId('68b1f440d4ac3d6eff5de941'), ObjectId('68b1f440d4ac3d6eff5de942'), ObjectId('68b1f440d4ac3d6eff5de943'), ObjectId('68b1f440d4ac3d6eff5de944'), ObjectId('68b1f440d4ac3d6eff5de945'), ObjectId('68b1f440d4ac3d6eff5de946'), ObjectId('68b1f440d4ac3d6eff5de947'), ObjectId('68b1f440d4ac3d6eff5de948'), ObjectId('68b1f440d4ac3d6eff5de949'), ObjectId('68b1f440d4ac3d6eff5de94a'), ObjectId('68b1f440d4ac3d6eff5de94b'), ObjectId('68b1f440d4ac3d6eff5de94c'), ObjectId('68b1f440d4ac3d6eff5de94d'), ObjectId('68b1f440d4ac3d6eff5de94e'), ObjectId('68b1f440d4ac3d6eff5de94f'), ObjectId('68b1f440d4ac3d6eff5de950'), ObjectId('68b1f440d4ac3d6eff5de951'), ObjectId('68b1f440d4ac3d6eff5de952'), ObjectId('68b1f440d4ac3d6eff5de953'), ObjectId('68b1f440d4ac3d6eff5de954'), ObjectId('68b1f440d4ac3d6eff5de955'), ObjectId('68b1f440d4ac3d6eff5de956'), ObjectId('68b1f440d4ac3d6eff5de957'), ObjectId('68b1f440d4ac3d6eff5de958'), ObjectId('68b1f440d4ac3d6eff5de959'), ObjectId('68b1f440d4ac3d6eff5de95a'), ObjectId('68b1f440d4ac3d6eff5de95b'), ObjectId('68b1f440d4ac3d6eff5de95c'), ObjectId('68b1f440d4ac3d6eff5de95d'), ObjectId('68b1f440d4ac3d6eff5de95e'), ObjectId('68b1f440d4ac3d6eff5de95f'), ObjectId('68b1f440d4ac3d6eff5de960'), ObjectId('68b1f440d4ac3d6eff5de961'), ObjectId('68b1f440d4ac3d6eff5de962'), ObjectId('68b1f440d4ac3d6eff5de963'), ObjectId('68b1f440d4ac3d6eff5de964'), ObjectId('68b1f440d4ac3d6eff5de965'), ObjectId('68b1f440d4ac3d6eff5de966'), ObjectId('68b1f440d4ac3d6eff5de967'), ObjectId('68b1f440d4ac3d6eff5de968'), ObjectId('68b1f440d4ac3d6eff5de969'), ObjectId('68b1f440d4ac3d6eff5de96a'), ObjectId('68b1f440d4ac3d6eff5de96b'), ObjectId('68b1f440d4ac3d6eff5de96c'), ObjectId('68b1f440d4ac3d6eff5de96d'), ObjectId('68b1f440d4ac3d6eff5de96e'), ObjectId('68b1f440d4ac3d6eff5de96f'), ObjectId('68b1f440d4ac3d6eff5de970'), ObjectId('68b1f440d4ac3d6eff5de971'), ObjectId('68b1f440d4ac3d6eff5de972'), ObjectId('68b1f440d4ac3d6eff5de973'), ObjectId('68b1f440d4ac3d6eff5de974'), ObjectId('68b1f440d4ac3d6eff5de975'), ObjectId('68b1f440d4ac3d6eff5de976'), ObjectId('68b1f440d4ac3d6eff5de977'), ObjectId('68b1f440d4ac3d6eff5de978'), ObjectId('68b1f440d4ac3d6eff5de979'), ObjectId('68b1f440d4ac3d6eff5de97a'), ObjectId('68b1f440d4ac3d6eff5de97b'), ObjectId('68b1f440d4ac3d6eff5de97c'), ObjectId('68b1f440d4ac3d6eff5de97d'), ObjectId('68b1f440d4ac3d6eff5de97e'), ObjectId('68b1f440d4ac3d6eff5de97f'), ObjectId('68b1f440d4ac3d6eff5de980'), ObjectId('68b1f440d4ac3d6eff5de981'), ObjectId('68b1f440d4ac3d6eff5de982'), ObjectId('68b1f440d4ac3d6eff5de983'), ObjectId('68b1f440d4ac3d6eff5de984'), ObjectId('68b1f440d4ac3d6eff5de985'), ObjectId('68b1f440d4ac3d6eff5de986'), ObjectId('68b1f440d4ac3d6eff5de987'), ObjectId('68b1f440d4ac3d6eff5de988'), ObjectId('68b1f440d4ac3d6eff5de989'), ObjectId('68b1f440d4ac3d6eff5de98a'), ObjectId('68b1f440d4ac3d6eff5de98b'), ObjectId('68b1f440d4ac3d6eff5de98c'), ObjectId('68b1f440d4ac3d6eff5de98d'), ObjectId('68b1f440d4ac3d6eff5de98e'), ObjectId('68b1f440d4ac3d6eff5de98f'), ObjectId('68b1f440d4ac3d6eff5de990'), ObjectId('68b1f440d4ac3d6eff5de991'), ObjectId('68b1f440d4ac3d6eff5de992'), ObjectId('68b1f440d4ac3d6eff5de993'), ObjectId('68b1f440d4ac3d6eff5de994'), ObjectId('68b1f440d4ac3d6eff5de995'), ObjectId('68b1f440d4ac3d6eff5de996'), ObjectId('68b1f440d4ac3d6eff5de997'), ObjectId('68b1f440d4ac3d6eff5de998'), ObjectId('68b1f440d4ac3d6eff5de999'), ObjectId('68b1f440d4ac3d6eff5de99a'), ObjectId('68b1f440d4ac3d6eff5de99b'), ObjectId('68b1f440d4ac3d6eff5de99c'), ObjectId('68b1f440d4ac3d6eff5de99d'), ObjectId('68b1f440d4ac3d6eff5de99e'), ObjectId('68b1f440d4ac3d6eff5de99f'), ObjectId('68b1f440d4ac3d6eff5de9a0'), ObjectId('68b1f440d4ac3d6eff5de9a1'), ObjectId('68b1f440d4ac3d6eff5de9a2'), ObjectId('68b1f440d4ac3d6eff5de9a3'), ObjectId('68b1f440d4ac3d6eff5de9a4'), ObjectId('68b1f440d4ac3d6eff5de9a5'), ObjectId('68b1f440d4ac3d6eff5de9a6'), ObjectId('68b1f440d4ac3d6eff5de9a7'), ObjectId('68b1f440d4ac3d6eff5de9a8'), ObjectId('68b1f440d4ac3d6eff5de9a9'), ObjectId('68b1f440d4ac3d6eff5de9aa'), ObjectId('68b1f440d4ac3d6eff5de9ab'), ObjectId('68b1f440d4ac3d6eff5de9ac'), ObjectId('68b1f440d4ac3d6eff5de9ad'), ObjectId('68b1f440d4ac3d6eff5de9ae'), ObjectId('68b1f440d4ac3d6eff5de9af'), ObjectId('68b1f440d4ac3d6eff5de9b0'), ObjectId('68b1f440d4ac3d6eff5de9b1'), ObjectId('68b1f440d4ac3d6eff5de9b2'), ObjectId('68b1f440d4ac3d6eff5de9b3'), ObjectId('68b1f440d4ac3d6eff5de9b4'), ObjectId('68b1f440d4ac3d6eff5de9b5'), ObjectId('68b1f440d4ac3d6eff5de9b6'), ObjectId('68b1f440d4ac3d6eff5de9b7'), ObjectId('68b1f440d4ac3d6eff5de9b8'), ObjectId('68b1f440d4ac3d6eff5de9b9'), ObjectId('68b1f440d4ac3d6eff5de9ba'), ObjectId('68b1f440d4ac3d6eff5de9bb'), ObjectId('68b1f440d4ac3d6eff5de9bc'), ObjectId('68b1f440d4ac3d6eff5de9bd'), ObjectId('68b1f440d4ac3d6eff5de9be'), ObjectId('68b1f440d4ac3d6eff5de9bf'), ObjectId('68b1f440d4ac3d6eff5de9c0'), ObjectId('68b1f440d4ac3d6eff5de9c1'), ObjectId('68b1f440d4ac3d6eff5de9c2'), ObjectId('68b1f440d4ac3d6eff5de9c3'), ObjectId('68b1f440d4ac3d6eff5de9c4'), ObjectId('68b1f440d4ac3d6eff5de9c5'), ObjectId('68b1f440d4ac3d6eff5de9c6'), ObjectId('68b1f440d4ac3d6eff5de9c7'), ObjectId('68b1f440d4ac3d6eff5de9c8'), ObjectId('68b1f440d4ac3d6eff5de9c9'), ObjectId('68b1f440d4ac3d6eff5de9ca'), ObjectId('68b1f440d4ac3d6eff5de9cb'), ObjectId('68b1f440d4ac3d6eff5de9cc'), ObjectId('68b1f440d4ac3d6eff5de9cd'), ObjectId('68b1f440d4ac3d6eff5de9ce'), ObjectId('68b1f440d4ac3d6eff5de9cf'), ObjectId('68b1f440d4ac3d6eff5de9d0'), ObjectId('68b1f440d4ac3d6eff5de9d1'), ObjectId('68b1f440d4ac3d6eff5de9d2'), ObjectId('68b1f440d4ac3d6eff5de9d3'), ObjectId('68b1f440d4ac3d6eff5de9d4'), ObjectId('68b1f440d4ac3d6eff5de9d5'), ObjectId('68b1f440d4ac3d6eff5de9d6'), ObjectId('68b1f440d4ac3d6eff5de9d7'), ObjectId('68b1f440d4ac3d6eff5de9d8'), ObjectId('68b1f440d4ac3d6eff5de9d9'), ObjectId('68b1f440d4ac3d6eff5de9da'), ObjectId('68b1f440d4ac3d6eff5de9db'), ObjectId('68b1f440d4ac3d6eff5de9dc'), ObjectId('68b1f440d4ac3d6eff5de9dd'), ObjectId('68b1f440d4ac3d6eff5de9de'), ObjectId('68b1f440d4ac3d6eff5de9df'), ObjectId('68b1f440d4ac3d6eff5de9e0'), ObjectId('68b1f440d4ac3d6eff5de9e1'), ObjectId('68b1f440d4ac3d6eff5de9e2'), ObjectId('68b1f440d4ac3d6eff5de9e3'), ObjectId('68b1f440d4ac3d6eff5de9e4'), ObjectId('68b1f440d4ac3d6eff5de9e5'), ObjectId('68b1f440d4ac3d6eff5de9e6'), ObjectId('68b1f440d4ac3d6eff5de9e7'), ObjectId('68b1f440d4ac3d6eff5de9e8'), ObjectId('68b1f440d4ac3d6eff5de9e9'), ObjectId('68b1f440d4ac3d6eff5de9ea'), ObjectId('68b1f440d4ac3d6eff5de9eb'), ObjectId('68b1f440d4ac3d6eff5de9ec'), ObjectId('68b1f440d4ac3d6eff5de9ed'), ObjectId('68b1f440d4ac3d6eff5de9ee'), ObjectId('68b1f440d4ac3d6eff5de9ef'), ObjectId('68b1f440d4ac3d6eff5de9f0'), ObjectId('68b1f440d4ac3d6eff5de9f1'), ObjectId('68b1f440d4ac3d6eff5de9f2'), ObjectId('68b1f440d4ac3d6eff5de9f3'), ObjectId('68b1f440d4ac3d6eff5de9f4'), ObjectId('68b1f440d4ac3d6eff5de9f5'), ObjectId('68b1f440d4ac3d6eff5de9f6'), ObjectId('68b1f440d4ac3d6eff5de9f7'), ObjectId('68b1f440d4ac3d6eff5de9f8'), ObjectId('68b1f440d4ac3d6eff5de9f9'), ObjectId('68b1f440d4ac3d6eff5de9fa'), ObjectId('68b1f440d4ac3d6eff5de9fb'), ObjectId('68b1f440d4ac3d6eff5de9fc'), ObjectId('68b1f440d4ac3d6eff5de9fd'), ObjectId('68b1f440d4ac3d6eff5de9fe'), ObjectId('68b1f440d4ac3d6eff5de9ff'), ObjectId('68b1f440d4ac3d6eff5dea00'), ObjectId('68b1f440d4ac3d6eff5dea01'), ObjectId('68b1f440d4ac3d6eff5dea02'), ObjectId('68b1f440d4ac3d6eff5dea03'), ObjectId('68b1f440d4ac3d6eff5dea04'), ObjectId('68b1f440d4ac3d6eff5dea05'), ObjectId('68b1f440d4ac3d6eff5dea06'), ObjectId('68b1f440d4ac3d6eff5dea07'), ObjectId('68b1f440d4ac3d6eff5dea08'), ObjectId('68b1f440d4ac3d6eff5dea09'), ObjectId('68b1f440d4ac3d6eff5dea0a'), ObjectId('68b1f440d4ac3d6eff5dea0b'), ObjectId('68b1f440d4ac3d6eff5dea0c'), ObjectId('68b1f440d4ac3d6eff5dea0d'), ObjectId('68b1f440d4ac3d6eff5dea0e'), ObjectId('68b1f440d4ac3d6eff5dea0f'), ObjectId('68b1f440d4ac3d6eff5dea10'), ObjectId('68b1f440d4ac3d6eff5dea11'), ObjectId('68b1f440d4ac3d6eff5dea12'), ObjectId('68b1f440d4ac3d6eff5dea13'), ObjectId('68b1f440d4ac3d6eff5dea14'), ObjectId('68b1f440d4ac3d6eff5dea15'), ObjectId('68b1f440d4ac3d6eff5dea16'), ObjectId('68b1f440d4ac3d6eff5dea17'), ObjectId('68b1f440d4ac3d6eff5dea18'), ObjectId('68b1f440d4ac3d6eff5dea19'), ObjectId('68b1f440d4ac3d6eff5dea1a'), ObjectId('68b1f440d4ac3d6eff5dea1b'), ObjectId('68b1f440d4ac3d6eff5dea1c'), ObjectId('68b1f440d4ac3d6eff5dea1d'), ObjectId('68b1f440d4ac3d6eff5dea1e'), ObjectId('68b1f440d4ac3d6eff5dea1f'), ObjectId('68b1f440d4ac3d6eff5dea20'), ObjectId('68b1f440d4ac3d6eff5dea21'), ObjectId('68b1f440d4ac3d6eff5dea22'), ObjectId('68b1f440d4ac3d6eff5dea23'), ObjectId('68b1f440d4ac3d6eff5dea24'), ObjectId('68b1f440d4ac3d6eff5dea25'), ObjectId('68b1f440d4ac3d6eff5dea26'), ObjectId('68b1f440d4ac3d6eff5dea27'), ObjectId('68b1f440d4ac3d6eff5dea28'), ObjectId('68b1f440d4ac3d6eff5dea29'), ObjectId('68b1f440d4ac3d6eff5dea2a'), ObjectId('68b1f440d4ac3d6eff5dea2b'), ObjectId('68b1f440d4ac3d6eff5dea2c'), ObjectId('68b1f440d4ac3d6eff5dea2d'), ObjectId('68b1f440d4ac3d6eff5dea2e'), ObjectId('68b1f440d4ac3d6eff5dea2f'), ObjectId('68b1f440d4ac3d6eff5dea30'), ObjectId('68b1f440d4ac3d6eff5dea31'), ObjectId('68b1f440d4ac3d6eff5dea32'), ObjectId('68b1f440d4ac3d6eff5dea33'), ObjectId('68b1f440d4ac3d6eff5dea34'), ObjectId('68b1f440d4ac3d6eff5dea35'), ObjectId('68b1f440d4ac3d6eff5dea36'), ObjectId('68b1f440d4ac3d6eff5dea37'), ObjectId('68b1f440d4ac3d6eff5dea38'), ObjectId('68b1f440d4ac3d6eff5dea39'), ObjectId('68b1f440d4ac3d6eff5dea3a'), ObjectId('68b1f440d4ac3d6eff5dea3b'), ObjectId('68b1f440d4ac3d6eff5dea3c'), ObjectId('68b1f440d4ac3d6eff5dea3d'), ObjectId('68b1f440d4ac3d6eff5dea3e'), ObjectId('68b1f440d4ac3d6eff5dea3f'), ObjectId('68b1f440d4ac3d6eff5dea40'), ObjectId('68b1f440d4ac3d6eff5dea41'), ObjectId('68b1f440d4ac3d6eff5dea42'), ObjectId('68b1f440d4ac3d6eff5dea43'), ObjectId('68b1f440d4ac3d6eff5dea44'), ObjectId('68b1f440d4ac3d6eff5dea45'), ObjectId('68b1f440d4ac3d6eff5dea46'), ObjectId('68b1f440d4ac3d6eff5dea47'), ObjectId('68b1f440d4ac3d6eff5dea48'), ObjectId('68b1f440d4ac3d6eff5dea49'), ObjectId('68b1f440d4ac3d6eff5dea4a'), ObjectId('68b1f440d4ac3d6eff5dea4b'), ObjectId('68b1f440d4ac3d6eff5dea4c'), ObjectId('68b1f440d4ac3d6eff5dea4d'), ObjectId('68b1f440d4ac3d6eff5dea4e'), ObjectId('68b1f440d4ac3d6eff5dea4f'), ObjectId('68b1f440d4ac3d6eff5dea50'), ObjectId('68b1f440d4ac3d6eff5dea51'), ObjectId('68b1f440d4ac3d6eff5dea52'), ObjectId('68b1f440d4ac3d6eff5dea53'), ObjectId('68b1f440d4ac3d6eff5dea54'), ObjectId('68b1f440d4ac3d6eff5dea55'), ObjectId('68b1f440d4ac3d6eff5dea56'), ObjectId('68b1f440d4ac3d6eff5dea57'), ObjectId('68b1f440d4ac3d6eff5dea58'), ObjectId('68b1f440d4ac3d6eff5dea59'), ObjectId('68b1f440d4ac3d6eff5dea5a'), ObjectId('68b1f440d4ac3d6eff5dea5b'), ObjectId('68b1f440d4ac3d6eff5dea5c'), ObjectId('68b1f440d4ac3d6eff5dea5d'), ObjectId('68b1f440d4ac3d6eff5dea5e'), ObjectId('68b1f440d4ac3d6eff5dea5f'), ObjectId('68b1f440d4ac3d6eff5dea60'), ObjectId('68b1f440d4ac3d6eff5dea61'), ObjectId('68b1f440d4ac3d6eff5dea62'), ObjectId('68b1f440d4ac3d6eff5dea63'), ObjectId('68b1f440d4ac3d6eff5dea64'), ObjectId('68b1f440d4ac3d6eff5dea65'), ObjectId('68b1f440d4ac3d6eff5dea66'), ObjectId('68b1f440d4ac3d6eff5dea67'), ObjectId('68b1f440d4ac3d6eff5dea68'), ObjectId('68b1f440d4ac3d6eff5dea69'), ObjectId('68b1f440d4ac3d6eff5dea6a'), ObjectId('68b1f440d4ac3d6eff5dea6b'), ObjectId('68b1f440d4ac3d6eff5dea6c'), ObjectId('68b1f440d4ac3d6eff5dea6d'), ObjectId('68b1f440d4ac3d6eff5dea6e'), ObjectId('68b1f440d4ac3d6eff5dea6f'), ObjectId('68b1f440d4ac3d6eff5dea70'), ObjectId('68b1f440d4ac3d6eff5dea71'), ObjectId('68b1f440d4ac3d6eff5dea72'), ObjectId('68b1f440d4ac3d6eff5dea73'), ObjectId('68b1f440d4ac3d6eff5dea74'), ObjectId('68b1f440d4ac3d6eff5dea75'), ObjectId('68b1f440d4ac3d6eff5dea76'), ObjectId('68b1f440d4ac3d6eff5dea77'), ObjectId('68b1f440d4ac3d6eff5dea78'), ObjectId('68b1f440d4ac3d6eff5dea79'), ObjectId('68b1f440d4ac3d6eff5dea7a'), ObjectId('68b1f440d4ac3d6eff5dea7b'), ObjectId('68b1f440d4ac3d6eff5dea7c'), ObjectId('68b1f440d4ac3d6eff5dea7d'), ObjectId('68b1f440d4ac3d6eff5dea7e'), ObjectId('68b1f440d4ac3d6eff5dea7f'), ObjectId('68b1f440d4ac3d6eff5dea80'), ObjectId('68b1f440d4ac3d6eff5dea81'), ObjectId('68b1f440d4ac3d6eff5dea82'), ObjectId('68b1f440d4ac3d6eff5dea83'), ObjectId('68b1f440d4ac3d6eff5dea84'), ObjectId('68b1f440d4ac3d6eff5dea85'), ObjectId('68b1f440d4ac3d6eff5dea86'), ObjectId('68b1f440d4ac3d6eff5dea87'), ObjectId('68b1f440d4ac3d6eff5dea88'), ObjectId('68b1f440d4ac3d6eff5dea89'), ObjectId('68b1f440d4ac3d6eff5dea8a'), ObjectId('68b1f440d4ac3d6eff5dea8b'), ObjectId('68b1f440d4ac3d6eff5dea8c'), ObjectId('68b1f440d4ac3d6eff5dea8d'), ObjectId('68b1f440d4ac3d6eff5dea8e'), ObjectId('68b1f440d4ac3d6eff5dea8f'), ObjectId('68b1f440d4ac3d6eff5dea90'), ObjectId('68b1f440d4ac3d6eff5dea91'), ObjectId('68b1f440d4ac3d6eff5dea92'), ObjectId('68b1f440d4ac3d6eff5dea93'), ObjectId('68b1f440d4ac3d6eff5dea94'), ObjectId('68b1f440d4ac3d6eff5dea95'), ObjectId('68b1f440d4ac3d6eff5dea96'), ObjectId('68b1f440d4ac3d6eff5dea97'), ObjectId('68b1f440d4ac3d6eff5dea98'), ObjectId('68b1f440d4ac3d6eff5dea99'), ObjectId('68b1f440d4ac3d6eff5dea9a'), ObjectId('68b1f440d4ac3d6eff5dea9b'), ObjectId('68b1f440d4ac3d6eff5dea9c'), ObjectId('68b1f440d4ac3d6eff5dea9d'), ObjectId('68b1f440d4ac3d6eff5dea9e'), ObjectId('68b1f440d4ac3d6eff5dea9f'), ObjectId('68b1f440d4ac3d6eff5deaa0'), ObjectId('68b1f440d4ac3d6eff5deaa1'), ObjectId('68b1f440d4ac3d6eff5deaa2'), ObjectId('68b1f440d4ac3d6eff5deaa3'), ObjectId('68b1f440d4ac3d6eff5deaa4'), ObjectId('68b1f440d4ac3d6eff5deaa5'), ObjectId('68b1f440d4ac3d6eff5deaa6'), ObjectId('68b1f440d4ac3d6eff5deaa7'), ObjectId('68b1f440d4ac3d6eff5deaa8'), ObjectId('68b1f440d4ac3d6eff5deaa9'), ObjectId('68b1f440d4ac3d6eff5deaaa'), ObjectId('68b1f440d4ac3d6eff5deaab'), ObjectId('68b1f440d4ac3d6eff5deaac'), ObjectId('68b1f440d4ac3d6eff5deaad'), ObjectId('68b1f440d4ac3d6eff5deaae'), ObjectId('68b1f440d4ac3d6eff5deaaf'), ObjectId('68b1f440d4ac3d6eff5deab0'), ObjectId('68b1f440d4ac3d6eff5deab1'), ObjectId('68b1f440d4ac3d6eff5deab2'), ObjectId('68b1f440d4ac3d6eff5deab3'), ObjectId('68b1f440d4ac3d6eff5deab4'), ObjectId('68b1f440d4ac3d6eff5deab5'), ObjectId('68b1f440d4ac3d6eff5deab6'), ObjectId('68b1f440d4ac3d6eff5deab7'), ObjectId('68b1f440d4ac3d6eff5deab8'), ObjectId('68b1f440d4ac3d6eff5deab9'), ObjectId('68b1f440d4ac3d6eff5deaba'), ObjectId('68b1f440d4ac3d6eff5deabb'), ObjectId('68b1f440d4ac3d6eff5deabc'), ObjectId('68b1f440d4ac3d6eff5deabd'), ObjectId('68b1f440d4ac3d6eff5deabe'), ObjectId('68b1f440d4ac3d6eff5deabf'), ObjectId('68b1f440d4ac3d6eff5deac0'), ObjectId('68b1f440d4ac3d6eff5deac1'), ObjectId('68b1f440d4ac3d6eff5deac2'), ObjectId('68b1f440d4ac3d6eff5deac3'), ObjectId('68b1f440d4ac3d6eff5deac4'), ObjectId('68b1f440d4ac3d6eff5deac5'), ObjectId('68b1f440d4ac3d6eff5deac6'), ObjectId('68b1f440d4ac3d6eff5deac7'), ObjectId('68b1f440d4ac3d6eff5deac8'), ObjectId('68b1f440d4ac3d6eff5deac9'), ObjectId('68b1f440d4ac3d6eff5deaca'), ObjectId('68b1f440d4ac3d6eff5deacb'), ObjectId('68b1f440d4ac3d6eff5deacc'), ObjectId('68b1f440d4ac3d6eff5deacd'), ObjectId('68b1f440d4ac3d6eff5deace'), ObjectId('68b1f440d4ac3d6eff5deacf'), ObjectId('68b1f440d4ac3d6eff5dead0'), ObjectId('68b1f440d4ac3d6eff5dead1'), ObjectId('68b1f440d4ac3d6eff5dead2'), ObjectId('68b1f440d4ac3d6eff5dead3'), ObjectId('68b1f440d4ac3d6eff5dead4'), ObjectId('68b1f440d4ac3d6eff5dead5'), ObjectId('68b1f440d4ac3d6eff5dead6'), ObjectId('68b1f440d4ac3d6eff5dead7'), ObjectId('68b1f440d4ac3d6eff5dead8'), ObjectId('68b1f440d4ac3d6eff5dead9'), ObjectId('68b1f440d4ac3d6eff5deada'), ObjectId('68b1f440d4ac3d6eff5deadb'), ObjectId('68b1f440d4ac3d6eff5deadc'), ObjectId('68b1f440d4ac3d6eff5deadd'), ObjectId('68b1f440d4ac3d6eff5deade'), ObjectId('68b1f440d4ac3d6eff5deadf'), ObjectId('68b1f440d4ac3d6eff5deae0'), ObjectId('68b1f440d4ac3d6eff5deae1'), ObjectId('68b1f440d4ac3d6eff5deae2'), ObjectId('68b1f440d4ac3d6eff5deae3'), ObjectId('68b1f440d4ac3d6eff5deae4'), ObjectId('68b1f440d4ac3d6eff5deae5'), ObjectId('68b1f440d4ac3d6eff5deae6'), ObjectId('68b1f440d4ac3d6eff5deae7'), ObjectId('68b1f440d4ac3d6eff5deae8'), ObjectId('68b1f440d4ac3d6eff5deae9'), ObjectId('68b1f440d4ac3d6eff5deaea'), ObjectId('68b1f440d4ac3d6eff5deaeb'), ObjectId('68b1f440d4ac3d6eff5deaec'), ObjectId('68b1f440d4ac3d6eff5deaed'), ObjectId('68b1f440d4ac3d6eff5deaee'), ObjectId('68b1f440d4ac3d6eff5deaef'), ObjectId('68b1f440d4ac3d6eff5deaf0'), ObjectId('68b1f440d4ac3d6eff5deaf1'), ObjectId('68b1f440d4ac3d6eff5deaf2'), ObjectId('68b1f440d4ac3d6eff5deaf3'), ObjectId('68b1f440d4ac3d6eff5deaf4'), ObjectId('68b1f440d4ac3d6eff5deaf5'), ObjectId('68b1f440d4ac3d6eff5deaf6'), ObjectId('68b1f440d4ac3d6eff5deaf7'), ObjectId('68b1f440d4ac3d6eff5deaf8'), ObjectId('68b1f440d4ac3d6eff5deaf9'), ObjectId('68b1f440d4ac3d6eff5deafa'), ObjectId('68b1f440d4ac3d6eff5deafb'), ObjectId('68b1f440d4ac3d6eff5deafc'), ObjectId('68b1f440d4ac3d6eff5deafd'), ObjectId('68b1f440d4ac3d6eff5deafe'), ObjectId('68b1f440d4ac3d6eff5deaff'), ObjectId('68b1f440d4ac3d6eff5deb00'), ObjectId('68b1f440d4ac3d6eff5deb01'), ObjectId('68b1f440d4ac3d6eff5deb02'), ObjectId('68b1f440d4ac3d6eff5deb03'), ObjectId('68b1f440d4ac3d6eff5deb04'), ObjectId('68b1f440d4ac3d6eff5deb05'), ObjectId('68b1f440d4ac3d6eff5deb06'), ObjectId('68b1f440d4ac3d6eff5deb07'), ObjectId('68b1f440d4ac3d6eff5deb08'), ObjectId('68b1f440d4ac3d6eff5deb09'), ObjectId('68b1f440d4ac3d6eff5deb0a'), ObjectId('68b1f440d4ac3d6eff5deb0b'), ObjectId('68b1f440d4ac3d6eff5deb0c'), ObjectId('68b1f440d4ac3d6eff5deb0d'), ObjectId('68b1f440d4ac3d6eff5deb0e'), ObjectId('68b1f440d4ac3d6eff5deb0f'), ObjectId('68b1f440d4ac3d6eff5deb10'), ObjectId('68b1f440d4ac3d6eff5deb11'), ObjectId('68b1f440d4ac3d6eff5deb12'), ObjectId('68b1f440d4ac3d6eff5deb13'), ObjectId('68b1f440d4ac3d6eff5deb14'), ObjectId('68b1f440d4ac3d6eff5deb15'), ObjectId('68b1f440d4ac3d6eff5deb16'), ObjectId('68b1f440d4ac3d6eff5deb17'), ObjectId('68b1f440d4ac3d6eff5deb18'), ObjectId('68b1f440d4ac3d6eff5deb19'), ObjectId('68b1f440d4ac3d6eff5deb1a'), ObjectId('68b1f440d4ac3d6eff5deb1b'), ObjectId('68b1f440d4ac3d6eff5deb1c'), ObjectId('68b1f440d4ac3d6eff5deb1d'), ObjectId('68b1f440d4ac3d6eff5deb1e'), ObjectId('68b1f440d4ac3d6eff5deb1f'), ObjectId('68b1f440d4ac3d6eff5deb20'), ObjectId('68b1f440d4ac3d6eff5deb21'), ObjectId('68b1f440d4ac3d6eff5deb22'), ObjectId('68b1f440d4ac3d6eff5deb23'), ObjectId('68b1f440d4ac3d6eff5deb24'), ObjectId('68b1f440d4ac3d6eff5deb25'), ObjectId('68b1f440d4ac3d6eff5deb26'), ObjectId('68b1f440d4ac3d6eff5deb27'), ObjectId('68b1f440d4ac3d6eff5deb28'), ObjectId('68b1f440d4ac3d6eff5deb29'), ObjectId('68b1f440d4ac3d6eff5deb2a'), ObjectId('68b1f440d4ac3d6eff5deb2b'), ObjectId('68b1f440d4ac3d6eff5deb2c'), ObjectId('68b1f440d4ac3d6eff5deb2d'), ObjectId('68b1f440d4ac3d6eff5deb2e'), ObjectId('68b1f440d4ac3d6eff5deb2f'), ObjectId('68b1f440d4ac3d6eff5deb30'), ObjectId('68b1f440d4ac3d6eff5deb31'), ObjectId('68b1f440d4ac3d6eff5deb32'), ObjectId('68b1f440d4ac3d6eff5deb33'), ObjectId('68b1f440d4ac3d6eff5deb34'), ObjectId('68b1f440d4ac3d6eff5deb35'), ObjectId('68b1f440d4ac3d6eff5deb36'), ObjectId('68b1f440d4ac3d6eff5deb37'), ObjectId('68b1f440d4ac3d6eff5deb38'), ObjectId('68b1f440d4ac3d6eff5deb39'), ObjectId('68b1f440d4ac3d6eff5deb3a'), ObjectId('68b1f440d4ac3d6eff5deb3b'), ObjectId('68b1f440d4ac3d6eff5deb3c'), ObjectId('68b1f440d4ac3d6eff5deb3d'), ObjectId('68b1f440d4ac3d6eff5deb3e'), ObjectId('68b1f440d4ac3d6eff5deb3f'), ObjectId('68b1f440d4ac3d6eff5deb40'), ObjectId('68b1f440d4ac3d6eff5deb41'), ObjectId('68b1f440d4ac3d6eff5deb42'), ObjectId('68b1f440d4ac3d6eff5deb43'), ObjectId('68b1f440d4ac3d6eff5deb44'), ObjectId('68b1f440d4ac3d6eff5deb45'), ObjectId('68b1f440d4ac3d6eff5deb46'), ObjectId('68b1f440d4ac3d6eff5deb47'), ObjectId('68b1f440d4ac3d6eff5deb48'), ObjectId('68b1f440d4ac3d6eff5deb49'), ObjectId('68b1f440d4ac3d6eff5deb4a'), ObjectId('68b1f440d4ac3d6eff5deb4b'), ObjectId('68b1f440d4ac3d6eff5deb4c'), ObjectId('68b1f440d4ac3d6eff5deb4d'), ObjectId('68b1f440d4ac3d6eff5deb4e'), ObjectId('68b1f440d4ac3d6eff5deb4f'), ObjectId('68b1f440d4ac3d6eff5deb50'), ObjectId('68b1f440d4ac3d6eff5deb51'), ObjectId('68b1f440d4ac3d6eff5deb52'), ObjectId('68b1f440d4ac3d6eff5deb53'), ObjectId('68b1f440d4ac3d6eff5deb54'), ObjectId('68b1f440d4ac3d6eff5deb55'), ObjectId('68b1f440d4ac3d6eff5deb56'), ObjectId('68b1f440d4ac3d6eff5deb57'), ObjectId('68b1f440d4ac3d6eff5deb58'), ObjectId('68b1f440d4ac3d6eff5deb59'), ObjectId('68b1f440d4ac3d6eff5deb5a'), ObjectId('68b1f440d4ac3d6eff5deb5b'), ObjectId('68b1f440d4ac3d6eff5deb5c'), ObjectId('68b1f440d4ac3d6eff5deb5d'), ObjectId('68b1f440d4ac3d6eff5deb5e'), ObjectId('68b1f440d4ac3d6eff5deb5f'), ObjectId('68b1f440d4ac3d6eff5deb60'), ObjectId('68b1f440d4ac3d6eff5deb61'), ObjectId('68b1f440d4ac3d6eff5deb62'), ObjectId('68b1f440d4ac3d6eff5deb63'), ObjectId('68b1f440d4ac3d6eff5deb64'), ObjectId('68b1f440d4ac3d6eff5deb65'), ObjectId('68b1f440d4ac3d6eff5deb66'), ObjectId('68b1f440d4ac3d6eff5deb67'), ObjectId('68b1f440d4ac3d6eff5deb68'), ObjectId('68b1f440d4ac3d6eff5deb69'), ObjectId('68b1f440d4ac3d6eff5deb6a'), ObjectId('68b1f440d4ac3d6eff5deb6b'), ObjectId('68b1f440d4ac3d6eff5deb6c'), ObjectId('68b1f440d4ac3d6eff5deb6d'), ObjectId('68b1f440d4ac3d6eff5deb6e'), ObjectId('68b1f440d4ac3d6eff5deb6f'), ObjectId('68b1f440d4ac3d6eff5deb70'), ObjectId('68b1f440d4ac3d6eff5deb71'), ObjectId('68b1f440d4ac3d6eff5deb72'), ObjectId('68b1f440d4ac3d6eff5deb73'), ObjectId('68b1f440d4ac3d6eff5deb74'), ObjectId('68b1f440d4ac3d6eff5deb75'), ObjectId('68b1f440d4ac3d6eff5deb76'), ObjectId('68b1f440d4ac3d6eff5deb77'), ObjectId('68b1f440d4ac3d6eff5deb78'), ObjectId('68b1f440d4ac3d6eff5deb79'), ObjectId('68b1f440d4ac3d6eff5deb7a'), ObjectId('68b1f440d4ac3d6eff5deb7b'), ObjectId('68b1f440d4ac3d6eff5deb7c'), ObjectId('68b1f440d4ac3d6eff5deb7d'), ObjectId('68b1f440d4ac3d6eff5deb7e'), ObjectId('68b1f440d4ac3d6eff5deb7f'), ObjectId('68b1f440d4ac3d6eff5deb80'), ObjectId('68b1f440d4ac3d6eff5deb81'), ObjectId('68b1f440d4ac3d6eff5deb82'), ObjectId('68b1f440d4ac3d6eff5deb83'), ObjectId('68b1f440d4ac3d6eff5deb84'), ObjectId('68b1f440d4ac3d6eff5deb85'), ObjectId('68b1f440d4ac3d6eff5deb86'), ObjectId('68b1f440d4ac3d6eff5deb87'), ObjectId('68b1f440d4ac3d6eff5deb88'), ObjectId('68b1f440d4ac3d6eff5deb89'), ObjectId('68b1f440d4ac3d6eff5deb8a'), ObjectId('68b1f440d4ac3d6eff5deb8b'), ObjectId('68b1f440d4ac3d6eff5deb8c'), ObjectId('68b1f440d4ac3d6eff5deb8d'), ObjectId('68b1f440d4ac3d6eff5deb8e'), ObjectId('68b1f440d4ac3d6eff5deb8f'), ObjectId('68b1f440d4ac3d6eff5deb90'), ObjectId('68b1f440d4ac3d6eff5deb91'), ObjectId('68b1f440d4ac3d6eff5deb92'), ObjectId('68b1f440d4ac3d6eff5deb93'), ObjectId('68b1f440d4ac3d6eff5deb94'), ObjectId('68b1f440d4ac3d6eff5deb95'), ObjectId('68b1f440d4ac3d6eff5deb96'), ObjectId('68b1f440d4ac3d6eff5deb97'), ObjectId('68b1f440d4ac3d6eff5deb98'), ObjectId('68b1f440d4ac3d6eff5deb99'), ObjectId('68b1f440d4ac3d6eff5deb9a'), ObjectId('68b1f440d4ac3d6eff5deb9b'), ObjectId('68b1f440d4ac3d6eff5deb9c'), ObjectId('68b1f440d4ac3d6eff5deb9d'), ObjectId('68b1f440d4ac3d6eff5deb9e'), ObjectId('68b1f440d4ac3d6eff5deb9f'), ObjectId('68b1f440d4ac3d6eff5deba0'), ObjectId('68b1f440d4ac3d6eff5deba1'), ObjectId('68b1f440d4ac3d6eff5deba2'), ObjectId('68b1f440d4ac3d6eff5deba3'), ObjectId('68b1f440d4ac3d6eff5deba4'), ObjectId('68b1f440d4ac3d6eff5deba5'), ObjectId('68b1f440d4ac3d6eff5deba6'), ObjectId('68b1f440d4ac3d6eff5deba7'), ObjectId('68b1f440d4ac3d6eff5deba8'), ObjectId('68b1f440d4ac3d6eff5deba9'), ObjectId('68b1f440d4ac3d6eff5debaa'), ObjectId('68b1f440d4ac3d6eff5debab'), ObjectId('68b1f440d4ac3d6eff5debac'), ObjectId('68b1f440d4ac3d6eff5debad'), ObjectId('68b1f440d4ac3d6eff5debae'), ObjectId('68b1f440d4ac3d6eff5debaf'), ObjectId('68b1f440d4ac3d6eff5debb0'), ObjectId('68b1f440d4ac3d6eff5debb1'), ObjectId('68b1f440d4ac3d6eff5debb2'), ObjectId('68b1f440d4ac3d6eff5debb3'), ObjectId('68b1f440d4ac3d6eff5debb4'), ObjectId('68b1f440d4ac3d6eff5debb5'), ObjectId('68b1f440d4ac3d6eff5debb6'), ObjectId('68b1f440d4ac3d6eff5debb7'), ObjectId('68b1f440d4ac3d6eff5debb8'), ObjectId('68b1f440d4ac3d6eff5debb9'), ObjectId('68b1f440d4ac3d6eff5debba'), ObjectId('68b1f440d4ac3d6eff5debbb'), ObjectId('68b1f440d4ac3d6eff5debbc'), ObjectId('68b1f440d4ac3d6eff5debbd'), ObjectId('68b1f440d4ac3d6eff5debbe'), ObjectId('68b1f440d4ac3d6eff5debbf'), ObjectId('68b1f440d4ac3d6eff5debc0'), ObjectId('68b1f440d4ac3d6eff5debc1'), ObjectId('68b1f440d4ac3d6eff5debc2'), ObjectId('68b1f440d4ac3d6eff5debc3'), ObjectId('68b1f440d4ac3d6eff5debc4'), ObjectId('68b1f440d4ac3d6eff5debc5'), ObjectId('68b1f440d4ac3d6eff5debc6'), ObjectId('68b1f440d4ac3d6eff5debc7'), ObjectId('68b1f440d4ac3d6eff5debc8'), ObjectId('68b1f440d4ac3d6eff5debc9'), ObjectId('68b1f440d4ac3d6eff5debca'), ObjectId('68b1f440d4ac3d6eff5debcb'), ObjectId('68b1f440d4ac3d6eff5debcc'), ObjectId('68b1f440d4ac3d6eff5debcd'), ObjectId('68b1f440d4ac3d6eff5debce'), ObjectId('68b1f440d4ac3d6eff5debcf'), ObjectId('68b1f440d4ac3d6eff5debd0'), ObjectId('68b1f440d4ac3d6eff5debd1'), ObjectId('68b1f440d4ac3d6eff5debd2'), ObjectId('68b1f440d4ac3d6eff5debd3'), ObjectId('68b1f440d4ac3d6eff5debd4'), ObjectId('68b1f440d4ac3d6eff5debd5'), ObjectId('68b1f440d4ac3d6eff5debd6'), ObjectId('68b1f440d4ac3d6eff5debd7'), ObjectId('68b1f440d4ac3d6eff5debd8'), ObjectId('68b1f440d4ac3d6eff5debd9'), ObjectId('68b1f440d4ac3d6eff5debda'), ObjectId('68b1f440d4ac3d6eff5debdb'), ObjectId('68b1f440d4ac3d6eff5debdc'), ObjectId('68b1f440d4ac3d6eff5debdd'), ObjectId('68b1f440d4ac3d6eff5debde'), ObjectId('68b1f440d4ac3d6eff5debdf'), ObjectId('68b1f440d4ac3d6eff5debe0'), ObjectId('68b1f440d4ac3d6eff5debe1'), ObjectId('68b1f440d4ac3d6eff5debe2'), ObjectId('68b1f440d4ac3d6eff5debe3'), ObjectId('68b1f440d4ac3d6eff5debe4'), ObjectId('68b1f440d4ac3d6eff5debe5'), ObjectId('68b1f440d4ac3d6eff5debe6'), ObjectId('68b1f440d4ac3d6eff5debe7'), ObjectId('68b1f440d4ac3d6eff5debe8'), ObjectId('68b1f440d4ac3d6eff5debe9'), ObjectId('68b1f440d4ac3d6eff5debea'), ObjectId('68b1f440d4ac3d6eff5debeb'), ObjectId('68b1f440d4ac3d6eff5debec'), ObjectId('68b1f440d4ac3d6eff5debed'), ObjectId('68b1f440d4ac3d6eff5debee'), ObjectId('68b1f440d4ac3d6eff5debef'), ObjectId('68b1f440d4ac3d6eff5debf0'), ObjectId('68b1f440d4ac3d6eff5debf1'), ObjectId('68b1f440d4ac3d6eff5debf2'), ObjectId('68b1f440d4ac3d6eff5debf3'), ObjectId('68b1f440d4ac3d6eff5debf4'), ObjectId('68b1f440d4ac3d6eff5debf5'), ObjectId('68b1f440d4ac3d6eff5debf6'), ObjectId('68b1f440d4ac3d6eff5debf7'), ObjectId('68b1f440d4ac3d6eff5debf8'), ObjectId('68b1f440d4ac3d6eff5debf9'), ObjectId('68b1f440d4ac3d6eff5debfa'), ObjectId('68b1f440d4ac3d6eff5debfb'), ObjectId('68b1f440d4ac3d6eff5debfc'), ObjectId('68b1f440d4ac3d6eff5debfd'), ObjectId('68b1f440d4ac3d6eff5debfe'), ObjectId('68b1f440d4ac3d6eff5debff'), ObjectId('68b1f440d4ac3d6eff5dec00'), ObjectId('68b1f440d4ac3d6eff5dec01'), ObjectId('68b1f440d4ac3d6eff5dec02'), ObjectId('68b1f440d4ac3d6eff5dec03'), ObjectId('68b1f440d4ac3d6eff5dec04'), ObjectId('68b1f440d4ac3d6eff5dec05'), ObjectId('68b1f440d4ac3d6eff5dec06'), ObjectId('68b1f440d4ac3d6eff5dec07'), ObjectId('68b1f440d4ac3d6eff5dec08'), ObjectId('68b1f440d4ac3d6eff5dec09'), ObjectId('68b1f440d4ac3d6eff5dec0a'), ObjectId('68b1f440d4ac3d6eff5dec0b'), ObjectId('68b1f440d4ac3d6eff5dec0c'), ObjectId('68b1f440d4ac3d6eff5dec0d'), ObjectId('68b1f440d4ac3d6eff5dec0e'), ObjectId('68b1f440d4ac3d6eff5dec0f'), ObjectId('68b1f440d4ac3d6eff5dec10'), ObjectId('68b1f440d4ac3d6eff5dec11'), ObjectId('68b1f440d4ac3d6eff5dec12'), ObjectId('68b1f440d4ac3d6eff5dec13'), ObjectId('68b1f440d4ac3d6eff5dec14'), ObjectId('68b1f440d4ac3d6eff5dec15'), ObjectId('68b1f440d4ac3d6eff5dec16'), ObjectId('68b1f440d4ac3d6eff5dec17'), ObjectId('68b1f440d4ac3d6eff5dec18'), ObjectId('68b1f440d4ac3d6eff5dec19'), ObjectId('68b1f440d4ac3d6eff5dec1a'), ObjectId('68b1f440d4ac3d6eff5dec1b'), ObjectId('68b1f440d4ac3d6eff5dec1c'), ObjectId('68b1f440d4ac3d6eff5dec1d'), ObjectId('68b1f440d4ac3d6eff5dec1e'), ObjectId('68b1f440d4ac3d6eff5dec1f'), ObjectId('68b1f440d4ac3d6eff5dec20'), ObjectId('68b1f440d4ac3d6eff5dec21'), ObjectId('68b1f440d4ac3d6eff5dec22'), ObjectId('68b1f440d4ac3d6eff5dec23'), ObjectId('68b1f440d4ac3d6eff5dec24'), ObjectId('68b1f440d4ac3d6eff5dec25'), ObjectId('68b1f440d4ac3d6eff5dec26'), ObjectId('68b1f440d4ac3d6eff5dec27'), ObjectId('68b1f440d4ac3d6eff5dec28'), ObjectId('68b1f440d4ac3d6eff5dec29'), ObjectId('68b1f440d4ac3d6eff5dec2a'), ObjectId('68b1f440d4ac3d6eff5dec2b'), ObjectId('68b1f440d4ac3d6eff5dec2c'), ObjectId('68b1f440d4ac3d6eff5dec2d'), ObjectId('68b1f440d4ac3d6eff5dec2e'), ObjectId('68b1f440d4ac3d6eff5dec2f'), ObjectId('68b1f440d4ac3d6eff5dec30'), ObjectId('68b1f440d4ac3d6eff5dec31'), ObjectId('68b1f440d4ac3d6eff5dec32'), ObjectId('68b1f440d4ac3d6eff5dec33'), ObjectId('68b1f440d4ac3d6eff5dec34'), ObjectId('68b1f440d4ac3d6eff5dec35'), ObjectId('68b1f440d4ac3d6eff5dec36'), ObjectId('68b1f440d4ac3d6eff5dec37'), ObjectId('68b1f440d4ac3d6eff5dec38'), ObjectId('68b1f440d4ac3d6eff5dec39'), ObjectId('68b1f440d4ac3d6eff5dec3a'), ObjectId('68b1f440d4ac3d6eff5dec3b'), ObjectId('68b1f440d4ac3d6eff5dec3c'), ObjectId('68b1f440d4ac3d6eff5dec3d'), ObjectId('68b1f440d4ac3d6eff5dec3e'), ObjectId('68b1f440d4ac3d6eff5dec3f'), ObjectId('68b1f440d4ac3d6eff5dec40'), ObjectId('68b1f440d4ac3d6eff5dec41'), ObjectId('68b1f440d4ac3d6eff5dec42'), ObjectId('68b1f440d4ac3d6eff5dec43'), ObjectId('68b1f440d4ac3d6eff5dec44'), ObjectId('68b1f440d4ac3d6eff5dec45'), ObjectId('68b1f440d4ac3d6eff5dec46'), ObjectId('68b1f440d4ac3d6eff5dec47'), ObjectId('68b1f440d4ac3d6eff5dec48'), ObjectId('68b1f440d4ac3d6eff5dec49'), ObjectId('68b1f440d4ac3d6eff5dec4a'), ObjectId('68b1f440d4ac3d6eff5dec4b'), ObjectId('68b1f440d4ac3d6eff5dec4c'), ObjectId('68b1f440d4ac3d6eff5dec4d'), ObjectId('68b1f440d4ac3d6eff5dec4e'), ObjectId('68b1f440d4ac3d6eff5dec4f'), ObjectId('68b1f440d4ac3d6eff5dec50'), ObjectId('68b1f440d4ac3d6eff5dec51'), ObjectId('68b1f440d4ac3d6eff5dec52'), ObjectId('68b1f440d4ac3d6eff5dec53'), ObjectId('68b1f440d4ac3d6eff5dec54'), ObjectId('68b1f440d4ac3d6eff5dec55'), ObjectId('68b1f440d4ac3d6eff5dec56'), ObjectId('68b1f440d4ac3d6eff5dec57'), ObjectId('68b1f440d4ac3d6eff5dec58'), ObjectId('68b1f440d4ac3d6eff5dec59'), ObjectId('68b1f440d4ac3d6eff5dec5a'), ObjectId('68b1f440d4ac3d6eff5dec5b'), ObjectId('68b1f440d4ac3d6eff5dec5c'), ObjectId('68b1f440d4ac3d6eff5dec5d'), ObjectId('68b1f440d4ac3d6eff5dec5e'), ObjectId('68b1f440d4ac3d6eff5dec5f'), ObjectId('68b1f440d4ac3d6eff5dec60'), ObjectId('68b1f440d4ac3d6eff5dec61'), ObjectId('68b1f440d4ac3d6eff5dec62'), ObjectId('68b1f440d4ac3d6eff5dec63'), ObjectId('68b1f440d4ac3d6eff5dec64'), ObjectId('68b1f440d4ac3d6eff5dec65'), ObjectId('68b1f440d4ac3d6eff5dec66'), ObjectId('68b1f440d4ac3d6eff5dec67'), ObjectId('68b1f440d4ac3d6eff5dec68'), ObjectId('68b1f440d4ac3d6eff5dec69'), ObjectId('68b1f440d4ac3d6eff5dec6a'), ObjectId('68b1f440d4ac3d6eff5dec6b'), ObjectId('68b1f440d4ac3d6eff5dec6c'), ObjectId('68b1f440d4ac3d6eff5dec6d'), ObjectId('68b1f440d4ac3d6eff5dec6e'), ObjectId('68b1f440d4ac3d6eff5dec6f'), ObjectId('68b1f440d4ac3d6eff5dec70'), ObjectId('68b1f440d4ac3d6eff5dec71'), ObjectId('68b1f440d4ac3d6eff5dec72'), ObjectId('68b1f440d4ac3d6eff5dec73'), ObjectId('68b1f440d4ac3d6eff5dec74'), ObjectId('68b1f440d4ac3d6eff5dec75'), ObjectId('68b1f440d4ac3d6eff5dec76'), ObjectId('68b1f440d4ac3d6eff5dec77'), ObjectId('68b1f440d4ac3d6eff5dec78'), ObjectId('68b1f440d4ac3d6eff5dec79'), ObjectId('68b1f440d4ac3d6eff5dec7a'), ObjectId('68b1f440d4ac3d6eff5dec7b'), ObjectId('68b1f440d4ac3d6eff5dec7c'), ObjectId('68b1f440d4ac3d6eff5dec7d'), ObjectId('68b1f440d4ac3d6eff5dec7e'), ObjectId('68b1f440d4ac3d6eff5dec7f'), ObjectId('68b1f440d4ac3d6eff5dec80'), ObjectId('68b1f440d4ac3d6eff5dec81'), ObjectId('68b1f440d4ac3d6eff5dec82'), ObjectId('68b1f440d4ac3d6eff5dec83'), ObjectId('68b1f440d4ac3d6eff5dec84'), ObjectId('68b1f440d4ac3d6eff5dec85'), ObjectId('68b1f440d4ac3d6eff5dec86'), ObjectId('68b1f440d4ac3d6eff5dec87'), ObjectId('68b1f440d4ac3d6eff5dec88'), ObjectId('68b1f440d4ac3d6eff5dec89'), ObjectId('68b1f440d4ac3d6eff5dec8a'), ObjectId('68b1f440d4ac3d6eff5dec8b'), ObjectId('68b1f440d4ac3d6eff5dec8c'), ObjectId('68b1f440d4ac3d6eff5dec8d'), ObjectId('68b1f440d4ac3d6eff5dec8e'), ObjectId('68b1f440d4ac3d6eff5dec8f'), ObjectId('68b1f440d4ac3d6eff5dec90'), ObjectId('68b1f440d4ac3d6eff5dec91'), ObjectId('68b1f440d4ac3d6eff5dec92'), ObjectId('68b1f440d4ac3d6eff5dec93'), ObjectId('68b1f440d4ac3d6eff5dec94'), ObjectId('68b1f440d4ac3d6eff5dec95'), ObjectId('68b1f440d4ac3d6eff5dec96'), ObjectId('68b1f440d4ac3d6eff5dec97'), ObjectId('68b1f440d4ac3d6eff5dec98'), ObjectId('68b1f440d4ac3d6eff5dec99'), ObjectId('68b1f440d4ac3d6eff5dec9a'), ObjectId('68b1f440d4ac3d6eff5dec9b'), ObjectId('68b1f440d4ac3d6eff5dec9c'), ObjectId('68b1f440d4ac3d6eff5dec9d'), ObjectId('68b1f440d4ac3d6eff5dec9e'), ObjectId('68b1f440d4ac3d6eff5dec9f'), ObjectId('68b1f440d4ac3d6eff5deca0'), ObjectId('68b1f440d4ac3d6eff5deca1'), ObjectId('68b1f440d4ac3d6eff5deca2'), ObjectId('68b1f440d4ac3d6eff5deca3'), ObjectId('68b1f440d4ac3d6eff5deca4'), ObjectId('68b1f440d4ac3d6eff5deca5'), ObjectId('68b1f440d4ac3d6eff5deca6'), ObjectId('68b1f440d4ac3d6eff5deca7'), ObjectId('68b1f440d4ac3d6eff5deca8'), ObjectId('68b1f440d4ac3d6eff5deca9'), ObjectId('68b1f440d4ac3d6eff5decaa'), ObjectId('68b1f440d4ac3d6eff5decab'), ObjectId('68b1f440d4ac3d6eff5decac'), ObjectId('68b1f440d4ac3d6eff5decad'), ObjectId('68b1f440d4ac3d6eff5decae'), ObjectId('68b1f440d4ac3d6eff5decaf'), ObjectId('68b1f440d4ac3d6eff5decb0'), ObjectId('68b1f440d4ac3d6eff5decb1'), ObjectId('68b1f440d4ac3d6eff5decb2'), ObjectId('68b1f440d4ac3d6eff5decb3'), ObjectId('68b1f440d4ac3d6eff5decb4'), ObjectId('68b1f440d4ac3d6eff5decb5'), ObjectId('68b1f440d4ac3d6eff5decb6'), ObjectId('68b1f440d4ac3d6eff5decb7'), ObjectId('68b1f440d4ac3d6eff5decb8'), ObjectId('68b1f440d4ac3d6eff5decb9'), ObjectId('68b1f440d4ac3d6eff5decba'), ObjectId('68b1f440d4ac3d6eff5decbb'), ObjectId('68b1f440d4ac3d6eff5decbc'), ObjectId('68b1f440d4ac3d6eff5decbd'), ObjectId('68b1f440d4ac3d6eff5decbe'), ObjectId('68b1f440d4ac3d6eff5decbf'), ObjectId('68b1f440d4ac3d6eff5decc0'), ObjectId('68b1f440d4ac3d6eff5decc1'), ObjectId('68b1f440d4ac3d6eff5decc2'), ObjectId('68b1f440d4ac3d6eff5decc3'), ObjectId('68b1f440d4ac3d6eff5decc4'), ObjectId('68b1f440d4ac3d6eff5decc5'), ObjectId('68b1f440d4ac3d6eff5decc6'), ObjectId('68b1f440d4ac3d6eff5decc7'), ObjectId('68b1f440d4ac3d6eff5decc8'), ObjectId('68b1f440d4ac3d6eff5decc9'), ObjectId('68b1f440d4ac3d6eff5decca'), ObjectId('68b1f440d4ac3d6eff5deccb'), ObjectId('68b1f440d4ac3d6eff5deccc'), ObjectId('68b1f440d4ac3d6eff5deccd'), ObjectId('68b1f440d4ac3d6eff5decce'), ObjectId('68b1f440d4ac3d6eff5deccf'), ObjectId('68b1f440d4ac3d6eff5decd0'), ObjectId('68b1f440d4ac3d6eff5decd1'), ObjectId('68b1f440d4ac3d6eff5decd2'), ObjectId('68b1f440d4ac3d6eff5decd3'), ObjectId('68b1f440d4ac3d6eff5decd4'), ObjectId('68b1f440d4ac3d6eff5decd5'), ObjectId('68b1f440d4ac3d6eff5decd6'), ObjectId('68b1f440d4ac3d6eff5decd7'), ObjectId('68b1f440d4ac3d6eff5decd8'), ObjectId('68b1f440d4ac3d6eff5decd9'), ObjectId('68b1f440d4ac3d6eff5decda'), ObjectId('68b1f440d4ac3d6eff5decdb'), ObjectId('68b1f440d4ac3d6eff5decdc'), ObjectId('68b1f440d4ac3d6eff5decdd'), ObjectId('68b1f440d4ac3d6eff5decde'), ObjectId('68b1f440d4ac3d6eff5decdf'), ObjectId('68b1f440d4ac3d6eff5dece0'), ObjectId('68b1f440d4ac3d6eff5dece1'), ObjectId('68b1f440d4ac3d6eff5dece2'), ObjectId('68b1f440d4ac3d6eff5dece3'), ObjectId('68b1f440d4ac3d6eff5dece4'), ObjectId('68b1f440d4ac3d6eff5dece5'), ObjectId('68b1f440d4ac3d6eff5dece6'), ObjectId('68b1f440d4ac3d6eff5dece7'), ObjectId('68b1f440d4ac3d6eff5dece8'), ObjectId('68b1f440d4ac3d6eff5dece9'), ObjectId('68b1f440d4ac3d6eff5decea'), ObjectId('68b1f440d4ac3d6eff5deceb'), ObjectId('68b1f440d4ac3d6eff5decec'), ObjectId('68b1f440d4ac3d6eff5deced'), ObjectId('68b1f440d4ac3d6eff5decee'), ObjectId('68b1f440d4ac3d6eff5decef'), ObjectId('68b1f440d4ac3d6eff5decf0'), ObjectId('68b1f440d4ac3d6eff5decf1'), ObjectId('68b1f440d4ac3d6eff5decf2'), ObjectId('68b1f440d4ac3d6eff5decf3'), ObjectId('68b1f440d4ac3d6eff5decf4'), ObjectId('68b1f440d4ac3d6eff5decf5'), ObjectId('68b1f440d4ac3d6eff5decf6'), ObjectId('68b1f440d4ac3d6eff5decf7'), ObjectId('68b1f440d4ac3d6eff5decf8'), ObjectId('68b1f440d4ac3d6eff5decf9'), ObjectId('68b1f440d4ac3d6eff5decfa'), ObjectId('68b1f440d4ac3d6eff5decfb'), ObjectId('68b1f440d4ac3d6eff5decfc'), ObjectId('68b1f440d4ac3d6eff5decfd'), ObjectId('68b1f440d4ac3d6eff5decfe'), ObjectId('68b1f440d4ac3d6eff5decff'), ObjectId('68b1f440d4ac3d6eff5ded00'), ObjectId('68b1f440d4ac3d6eff5ded01'), ObjectId('68b1f440d4ac3d6eff5ded02'), ObjectId('68b1f440d4ac3d6eff5ded03'), ObjectId('68b1f440d4ac3d6eff5ded04'), ObjectId('68b1f440d4ac3d6eff5ded05'), ObjectId('68b1f440d4ac3d6eff5ded06'), ObjectId('68b1f440d4ac3d6eff5ded07'), ObjectId('68b1f440d4ac3d6eff5ded08'), ObjectId('68b1f440d4ac3d6eff5ded09'), ObjectId('68b1f440d4ac3d6eff5ded0a'), ObjectId('68b1f440d4ac3d6eff5ded0b'), ObjectId('68b1f440d4ac3d6eff5ded0c'), ObjectId('68b1f440d4ac3d6eff5ded0d'), ObjectId('68b1f440d4ac3d6eff5ded0e'), ObjectId('68b1f440d4ac3d6eff5ded0f'), ObjectId('68b1f440d4ac3d6eff5ded10'), ObjectId('68b1f440d4ac3d6eff5ded11'), ObjectId('68b1f440d4ac3d6eff5ded12'), ObjectId('68b1f440d4ac3d6eff5ded13'), ObjectId('68b1f440d4ac3d6eff5ded14'), ObjectId('68b1f440d4ac3d6eff5ded15'), ObjectId('68b1f440d4ac3d6eff5ded16'), ObjectId('68b1f440d4ac3d6eff5ded17'), ObjectId('68b1f440d4ac3d6eff5ded18'), ObjectId('68b1f440d4ac3d6eff5ded19'), ObjectId('68b1f440d4ac3d6eff5ded1a'), ObjectId('68b1f440d4ac3d6eff5ded1b'), ObjectId('68b1f440d4ac3d6eff5ded1c'), ObjectId('68b1f440d4ac3d6eff5ded1d'), ObjectId('68b1f440d4ac3d6eff5ded1e'), ObjectId('68b1f440d4ac3d6eff5ded1f'), ObjectId('68b1f440d4ac3d6eff5ded20'), ObjectId('68b1f440d4ac3d6eff5ded21'), ObjectId('68b1f440d4ac3d6eff5ded22'), ObjectId('68b1f440d4ac3d6eff5ded23'), ObjectId('68b1f440d4ac3d6eff5ded24'), ObjectId('68b1f440d4ac3d6eff5ded25'), ObjectId('68b1f440d4ac3d6eff5ded26'), ObjectId('68b1f440d4ac3d6eff5ded27'), ObjectId('68b1f440d4ac3d6eff5ded28'), ObjectId('68b1f440d4ac3d6eff5ded29'), ObjectId('68b1f440d4ac3d6eff5ded2a'), ObjectId('68b1f440d4ac3d6eff5ded2b'), ObjectId('68b1f440d4ac3d6eff5ded2c'), ObjectId('68b1f440d4ac3d6eff5ded2d'), ObjectId('68b1f440d4ac3d6eff5ded2e'), ObjectId('68b1f440d4ac3d6eff5ded2f'), ObjectId('68b1f440d4ac3d6eff5ded30'), ObjectId('68b1f440d4ac3d6eff5ded31'), ObjectId('68b1f440d4ac3d6eff5ded32'), ObjectId('68b1f440d4ac3d6eff5ded33'), ObjectId('68b1f440d4ac3d6eff5ded34'), ObjectId('68b1f440d4ac3d6eff5ded35'), ObjectId('68b1f440d4ac3d6eff5ded36'), ObjectId('68b1f440d4ac3d6eff5ded37'), ObjectId('68b1f440d4ac3d6eff5ded38'), ObjectId('68b1f440d4ac3d6eff5ded39'), ObjectId('68b1f440d4ac3d6eff5ded3a'), ObjectId('68b1f440d4ac3d6eff5ded3b'), ObjectId('68b1f440d4ac3d6eff5ded3c'), ObjectId('68b1f440d4ac3d6eff5ded3d'), ObjectId('68b1f440d4ac3d6eff5ded3e'), ObjectId('68b1f440d4ac3d6eff5ded3f'), ObjectId('68b1f440d4ac3d6eff5ded40'), ObjectId('68b1f440d4ac3d6eff5ded41'), ObjectId('68b1f440d4ac3d6eff5ded42'), ObjectId('68b1f440d4ac3d6eff5ded43'), ObjectId('68b1f440d4ac3d6eff5ded44'), ObjectId('68b1f440d4ac3d6eff5ded45'), ObjectId('68b1f440d4ac3d6eff5ded46'), ObjectId('68b1f440d4ac3d6eff5ded47'), ObjectId('68b1f440d4ac3d6eff5ded48'), ObjectId('68b1f440d4ac3d6eff5ded49'), ObjectId('68b1f440d4ac3d6eff5ded4a'), ObjectId('68b1f440d4ac3d6eff5ded4b'), ObjectId('68b1f440d4ac3d6eff5ded4c'), ObjectId('68b1f440d4ac3d6eff5ded4d'), ObjectId('68b1f440d4ac3d6eff5ded4e'), ObjectId('68b1f440d4ac3d6eff5ded4f'), ObjectId('68b1f440d4ac3d6eff5ded50'), ObjectId('68b1f440d4ac3d6eff5ded51'), ObjectId('68b1f440d4ac3d6eff5ded52'), ObjectId('68b1f440d4ac3d6eff5ded53'), ObjectId('68b1f440d4ac3d6eff5ded54'), ObjectId('68b1f440d4ac3d6eff5ded55'), ObjectId('68b1f440d4ac3d6eff5ded56'), ObjectId('68b1f440d4ac3d6eff5ded57'), ObjectId('68b1f440d4ac3d6eff5ded58'), ObjectId('68b1f440d4ac3d6eff5ded59'), ObjectId('68b1f440d4ac3d6eff5ded5a'), ObjectId('68b1f440d4ac3d6eff5ded5b'), ObjectId('68b1f440d4ac3d6eff5ded5c'), ObjectId('68b1f440d4ac3d6eff5ded5d'), ObjectId('68b1f440d4ac3d6eff5ded5e'), ObjectId('68b1f440d4ac3d6eff5ded5f'), ObjectId('68b1f440d4ac3d6eff5ded60'), ObjectId('68b1f440d4ac3d6eff5ded61'), ObjectId('68b1f440d4ac3d6eff5ded62'), ObjectId('68b1f440d4ac3d6eff5ded63'), ObjectId('68b1f440d4ac3d6eff5ded64'), ObjectId('68b1f440d4ac3d6eff5ded65'), ObjectId('68b1f440d4ac3d6eff5ded66'), ObjectId('68b1f440d4ac3d6eff5ded67'), ObjectId('68b1f440d4ac3d6eff5ded68'), ObjectId('68b1f440d4ac3d6eff5ded69'), ObjectId('68b1f440d4ac3d6eff5ded6a'), ObjectId('68b1f440d4ac3d6eff5ded6b'), ObjectId('68b1f440d4ac3d6eff5ded6c'), ObjectId('68b1f440d4ac3d6eff5ded6d'), ObjectId('68b1f440d4ac3d6eff5ded6e'), ObjectId('68b1f440d4ac3d6eff5ded6f'), ObjectId('68b1f440d4ac3d6eff5ded70'), ObjectId('68b1f440d4ac3d6eff5ded71'), ObjectId('68b1f440d4ac3d6eff5ded72'), ObjectId('68b1f440d4ac3d6eff5ded73'), ObjectId('68b1f440d4ac3d6eff5ded74'), ObjectId('68b1f440d4ac3d6eff5ded75'), ObjectId('68b1f440d4ac3d6eff5ded76'), ObjectId('68b1f440d4ac3d6eff5ded77'), ObjectId('68b1f440d4ac3d6eff5ded78'), ObjectId('68b1f440d4ac3d6eff5ded79'), ObjectId('68b1f440d4ac3d6eff5ded7a'), ObjectId('68b1f440d4ac3d6eff5ded7b'), ObjectId('68b1f440d4ac3d6eff5ded7c'), ObjectId('68b1f440d4ac3d6eff5ded7d'), ObjectId('68b1f440d4ac3d6eff5ded7e'), ObjectId('68b1f440d4ac3d6eff5ded7f'), ObjectId('68b1f440d4ac3d6eff5ded80'), ObjectId('68b1f440d4ac3d6eff5ded81'), ObjectId('68b1f440d4ac3d6eff5ded82'), ObjectId('68b1f440d4ac3d6eff5ded83'), ObjectId('68b1f440d4ac3d6eff5ded84'), ObjectId('68b1f440d4ac3d6eff5ded85'), ObjectId('68b1f440d4ac3d6eff5ded86'), ObjectId('68b1f440d4ac3d6eff5ded87'), ObjectId('68b1f440d4ac3d6eff5ded88'), ObjectId('68b1f440d4ac3d6eff5ded89'), ObjectId('68b1f440d4ac3d6eff5ded8a'), ObjectId('68b1f440d4ac3d6eff5ded8b'), ObjectId('68b1f440d4ac3d6eff5ded8c'), ObjectId('68b1f440d4ac3d6eff5ded8d'), ObjectId('68b1f440d4ac3d6eff5ded8e'), ObjectId('68b1f440d4ac3d6eff5ded8f'), ObjectId('68b1f440d4ac3d6eff5ded90'), ObjectId('68b1f440d4ac3d6eff5ded91'), ObjectId('68b1f440d4ac3d6eff5ded92'), ObjectId('68b1f440d4ac3d6eff5ded93'), ObjectId('68b1f440d4ac3d6eff5ded94'), ObjectId('68b1f440d4ac3d6eff5ded95'), ObjectId('68b1f440d4ac3d6eff5ded96'), ObjectId('68b1f440d4ac3d6eff5ded97'), ObjectId('68b1f440d4ac3d6eff5ded98'), ObjectId('68b1f440d4ac3d6eff5ded99'), ObjectId('68b1f440d4ac3d6eff5ded9a'), ObjectId('68b1f440d4ac3d6eff5ded9b'), ObjectId('68b1f440d4ac3d6eff5ded9c'), ObjectId('68b1f440d4ac3d6eff5ded9d'), ObjectId('68b1f440d4ac3d6eff5ded9e'), ObjectId('68b1f440d4ac3d6eff5ded9f'), ObjectId('68b1f440d4ac3d6eff5deda0'), ObjectId('68b1f440d4ac3d6eff5deda1'), ObjectId('68b1f440d4ac3d6eff5deda2'), ObjectId('68b1f440d4ac3d6eff5deda3'), ObjectId('68b1f440d4ac3d6eff5deda4'), ObjectId('68b1f440d4ac3d6eff5deda5'), ObjectId('68b1f440d4ac3d6eff5deda6'), ObjectId('68b1f440d4ac3d6eff5deda7'), ObjectId('68b1f440d4ac3d6eff5deda8'), ObjectId('68b1f440d4ac3d6eff5deda9'), ObjectId('68b1f440d4ac3d6eff5dedaa'), ObjectId('68b1f440d4ac3d6eff5dedab'), ObjectId('68b1f440d4ac3d6eff5dedac'), ObjectId('68b1f440d4ac3d6eff5dedad'), ObjectId('68b1f440d4ac3d6eff5dedae'), ObjectId('68b1f440d4ac3d6eff5dedaf'), ObjectId('68b1f440d4ac3d6eff5dedb0'), ObjectId('68b1f440d4ac3d6eff5dedb1'), ObjectId('68b1f440d4ac3d6eff5dedb2'), ObjectId('68b1f440d4ac3d6eff5dedb3'), ObjectId('68b1f440d4ac3d6eff5dedb4'), ObjectId('68b1f440d4ac3d6eff5dedb5'), ObjectId('68b1f440d4ac3d6eff5dedb6'), ObjectId('68b1f440d4ac3d6eff5dedb7'), ObjectId('68b1f440d4ac3d6eff5dedb8'), ObjectId('68b1f440d4ac3d6eff5dedb9'), ObjectId('68b1f440d4ac3d6eff5dedba'), ObjectId('68b1f440d4ac3d6eff5dedbb'), ObjectId('68b1f440d4ac3d6eff5dedbc'), ObjectId('68b1f440d4ac3d6eff5dedbd'), ObjectId('68b1f440d4ac3d6eff5dedbe'), ObjectId('68b1f440d4ac3d6eff5dedbf'), ObjectId('68b1f440d4ac3d6eff5dedc0'), ObjectId('68b1f440d4ac3d6eff5dedc1'), ObjectId('68b1f440d4ac3d6eff5dedc2'), ObjectId('68b1f440d4ac3d6eff5dedc3'), ObjectId('68b1f440d4ac3d6eff5dedc4'), ObjectId('68b1f440d4ac3d6eff5dedc5'), ObjectId('68b1f440d4ac3d6eff5dedc6'), ObjectId('68b1f440d4ac3d6eff5dedc7'), ObjectId('68b1f440d4ac3d6eff5dedc8'), ObjectId('68b1f440d4ac3d6eff5dedc9'), ObjectId('68b1f440d4ac3d6eff5dedca'), ObjectId('68b1f440d4ac3d6eff5dedcb'), ObjectId('68b1f440d4ac3d6eff5dedcc'), ObjectId('68b1f440d4ac3d6eff5dedcd'), ObjectId('68b1f440d4ac3d6eff5dedce'), ObjectId('68b1f440d4ac3d6eff5dedcf'), ObjectId('68b1f440d4ac3d6eff5dedd0'), ObjectId('68b1f440d4ac3d6eff5dedd1'), ObjectId('68b1f440d4ac3d6eff5dedd2'), ObjectId('68b1f440d4ac3d6eff5dedd3'), ObjectId('68b1f440d4ac3d6eff5dedd4'), ObjectId('68b1f440d4ac3d6eff5dedd5'), ObjectId('68b1f440d4ac3d6eff5dedd6'), ObjectId('68b1f440d4ac3d6eff5dedd7'), ObjectId('68b1f440d4ac3d6eff5dedd8'), ObjectId('68b1f440d4ac3d6eff5dedd9'), ObjectId('68b1f440d4ac3d6eff5dedda'), ObjectId('68b1f440d4ac3d6eff5deddb'), ObjectId('68b1f440d4ac3d6eff5deddc'), ObjectId('68b1f440d4ac3d6eff5deddd'), ObjectId('68b1f440d4ac3d6eff5dedde'), ObjectId('68b1f440d4ac3d6eff5deddf'), ObjectId('68b1f440d4ac3d6eff5dede0'), ObjectId('68b1f440d4ac3d6eff5dede1'), ObjectId('68b1f440d4ac3d6eff5dede2'), ObjectId('68b1f440d4ac3d6eff5dede3'), ObjectId('68b1f440d4ac3d6eff5dede4'), ObjectId('68b1f440d4ac3d6eff5dede5'), ObjectId('68b1f440d4ac3d6eff5dede6'), ObjectId('68b1f440d4ac3d6eff5dede7'), ObjectId('68b1f440d4ac3d6eff5dede8'), ObjectId('68b1f440d4ac3d6eff5dede9'), ObjectId('68b1f440d4ac3d6eff5dedea'), ObjectId('68b1f440d4ac3d6eff5dedeb'), ObjectId('68b1f440d4ac3d6eff5dedec'), ObjectId('68b1f440d4ac3d6eff5deded'), ObjectId('68b1f440d4ac3d6eff5dedee'), ObjectId('68b1f440d4ac3d6eff5dedef'), ObjectId('68b1f440d4ac3d6eff5dedf0'), ObjectId('68b1f440d4ac3d6eff5dedf1'), ObjectId('68b1f440d4ac3d6eff5dedf2'), ObjectId('68b1f440d4ac3d6eff5dedf3'), ObjectId('68b1f440d4ac3d6eff5dedf4'), ObjectId('68b1f440d4ac3d6eff5dedf5'), ObjectId('68b1f440d4ac3d6eff5dedf6'), ObjectId('68b1f440d4ac3d6eff5dedf7'), ObjectId('68b1f440d4ac3d6eff5dedf8'), ObjectId('68b1f440d4ac3d6eff5dedf9'), ObjectId('68b1f440d4ac3d6eff5dedfa'), ObjectId('68b1f440d4ac3d6eff5dedfb'), ObjectId('68b1f440d4ac3d6eff5dedfc'), ObjectId('68b1f440d4ac3d6eff5dedfd'), ObjectId('68b1f440d4ac3d6eff5dedfe'), ObjectId('68b1f440d4ac3d6eff5dedff'), ObjectId('68b1f440d4ac3d6eff5dee00'), ObjectId('68b1f440d4ac3d6eff5dee01'), ObjectId('68b1f440d4ac3d6eff5dee02'), ObjectId('68b1f440d4ac3d6eff5dee03'), ObjectId('68b1f440d4ac3d6eff5dee04'), ObjectId('68b1f440d4ac3d6eff5dee05'), ObjectId('68b1f440d4ac3d6eff5dee06'), ObjectId('68b1f440d4ac3d6eff5dee07'), ObjectId('68b1f440d4ac3d6eff5dee08'), ObjectId('68b1f440d4ac3d6eff5dee09'), ObjectId('68b1f440d4ac3d6eff5dee0a'), ObjectId('68b1f440d4ac3d6eff5dee0b'), ObjectId('68b1f440d4ac3d6eff5dee0c'), ObjectId('68b1f440d4ac3d6eff5dee0d'), ObjectId('68b1f440d4ac3d6eff5dee0e'), ObjectId('68b1f440d4ac3d6eff5dee0f'), ObjectId('68b1f440d4ac3d6eff5dee10'), ObjectId('68b1f440d4ac3d6eff5dee11'), ObjectId('68b1f440d4ac3d6eff5dee12'), ObjectId('68b1f440d4ac3d6eff5dee13'), ObjectId('68b1f440d4ac3d6eff5dee14'), ObjectId('68b1f440d4ac3d6eff5dee15'), ObjectId('68b1f440d4ac3d6eff5dee16'), ObjectId('68b1f440d4ac3d6eff5dee17'), ObjectId('68b1f440d4ac3d6eff5dee18'), ObjectId('68b1f440d4ac3d6eff5dee19'), ObjectId('68b1f440d4ac3d6eff5dee1a'), ObjectId('68b1f440d4ac3d6eff5dee1b'), ObjectId('68b1f440d4ac3d6eff5dee1c'), ObjectId('68b1f440d4ac3d6eff5dee1d'), ObjectId('68b1f440d4ac3d6eff5dee1e'), ObjectId('68b1f440d4ac3d6eff5dee1f'), ObjectId('68b1f440d4ac3d6eff5dee20'), ObjectId('68b1f440d4ac3d6eff5dee21'), ObjectId('68b1f440d4ac3d6eff5dee22'), ObjectId('68b1f440d4ac3d6eff5dee23'), ObjectId('68b1f440d4ac3d6eff5dee24'), ObjectId('68b1f440d4ac3d6eff5dee25'), ObjectId('68b1f440d4ac3d6eff5dee26'), ObjectId('68b1f440d4ac3d6eff5dee27'), ObjectId('68b1f440d4ac3d6eff5dee28'), ObjectId('68b1f440d4ac3d6eff5dee29'), ObjectId('68b1f440d4ac3d6eff5dee2a'), ObjectId('68b1f440d4ac3d6eff5dee2b'), ObjectId('68b1f440d4ac3d6eff5dee2c'), ObjectId('68b1f440d4ac3d6eff5dee2d'), ObjectId('68b1f440d4ac3d6eff5dee2e'), ObjectId('68b1f440d4ac3d6eff5dee2f'), ObjectId('68b1f440d4ac3d6eff5dee30'), ObjectId('68b1f440d4ac3d6eff5dee31'), ObjectId('68b1f440d4ac3d6eff5dee32'), ObjectId('68b1f440d4ac3d6eff5dee33'), ObjectId('68b1f440d4ac3d6eff5dee34'), ObjectId('68b1f440d4ac3d6eff5dee35'), ObjectId('68b1f440d4ac3d6eff5dee36'), ObjectId('68b1f440d4ac3d6eff5dee37'), ObjectId('68b1f440d4ac3d6eff5dee38'), ObjectId('68b1f440d4ac3d6eff5dee39'), ObjectId('68b1f440d4ac3d6eff5dee3a'), ObjectId('68b1f440d4ac3d6eff5dee3b'), ObjectId('68b1f440d4ac3d6eff5dee3c'), ObjectId('68b1f440d4ac3d6eff5dee3d'), ObjectId('68b1f440d4ac3d6eff5dee3e'), ObjectId('68b1f440d4ac3d6eff5dee3f'), ObjectId('68b1f440d4ac3d6eff5dee40'), ObjectId('68b1f440d4ac3d6eff5dee41'), ObjectId('68b1f440d4ac3d6eff5dee42'), ObjectId('68b1f440d4ac3d6eff5dee43'), ObjectId('68b1f440d4ac3d6eff5dee44'), ObjectId('68b1f440d4ac3d6eff5dee45'), ObjectId('68b1f440d4ac3d6eff5dee46'), ObjectId('68b1f440d4ac3d6eff5dee47'), ObjectId('68b1f440d4ac3d6eff5dee48'), ObjectId('68b1f440d4ac3d6eff5dee49'), ObjectId('68b1f440d4ac3d6eff5dee4a'), ObjectId('68b1f440d4ac3d6eff5dee4b'), ObjectId('68b1f440d4ac3d6eff5dee4c'), ObjectId('68b1f440d4ac3d6eff5dee4d'), ObjectId('68b1f440d4ac3d6eff5dee4e'), ObjectId('68b1f440d4ac3d6eff5dee4f'), ObjectId('68b1f440d4ac3d6eff5dee50'), ObjectId('68b1f440d4ac3d6eff5dee51'), ObjectId('68b1f440d4ac3d6eff5dee52'), ObjectId('68b1f440d4ac3d6eff5dee53'), ObjectId('68b1f440d4ac3d6eff5dee54'), ObjectId('68b1f440d4ac3d6eff5dee55'), ObjectId('68b1f440d4ac3d6eff5dee56'), ObjectId('68b1f440d4ac3d6eff5dee57'), ObjectId('68b1f440d4ac3d6eff5dee58'), ObjectId('68b1f440d4ac3d6eff5dee59'), ObjectId('68b1f440d4ac3d6eff5dee5a'), ObjectId('68b1f440d4ac3d6eff5dee5b'), ObjectId('68b1f440d4ac3d6eff5dee5c'), ObjectId('68b1f440d4ac3d6eff5dee5d'), ObjectId('68b1f440d4ac3d6eff5dee5e'), ObjectId('68b1f440d4ac3d6eff5dee5f'), ObjectId('68b1f440d4ac3d6eff5dee60'), ObjectId('68b1f440d4ac3d6eff5dee61'), ObjectId('68b1f440d4ac3d6eff5dee62'), ObjectId('68b1f440d4ac3d6eff5dee63'), ObjectId('68b1f440d4ac3d6eff5dee64'), ObjectId('68b1f440d4ac3d6eff5dee65'), ObjectId('68b1f440d4ac3d6eff5dee66'), ObjectId('68b1f440d4ac3d6eff5dee67'), ObjectId('68b1f440d4ac3d6eff5dee68'), ObjectId('68b1f440d4ac3d6eff5dee69'), ObjectId('68b1f440d4ac3d6eff5dee6a'), ObjectId('68b1f440d4ac3d6eff5dee6b'), ObjectId('68b1f440d4ac3d6eff5dee6c'), ObjectId('68b1f440d4ac3d6eff5dee6d'), ObjectId('68b1f440d4ac3d6eff5dee6e'), ObjectId('68b1f440d4ac3d6eff5dee6f'), ObjectId('68b1f440d4ac3d6eff5dee70'), ObjectId('68b1f440d4ac3d6eff5dee71'), ObjectId('68b1f440d4ac3d6eff5dee72'), ObjectId('68b1f440d4ac3d6eff5dee73'), ObjectId('68b1f440d4ac3d6eff5dee74'), ObjectId('68b1f440d4ac3d6eff5dee75'), ObjectId('68b1f440d4ac3d6eff5dee76'), ObjectId('68b1f440d4ac3d6eff5dee77'), ObjectId('68b1f440d4ac3d6eff5dee78'), ObjectId('68b1f440d4ac3d6eff5dee79'), ObjectId('68b1f440d4ac3d6eff5dee7a'), ObjectId('68b1f440d4ac3d6eff5dee7b'), ObjectId('68b1f440d4ac3d6eff5dee7c'), ObjectId('68b1f440d4ac3d6eff5dee7d'), ObjectId('68b1f440d4ac3d6eff5dee7e'), ObjectId('68b1f440d4ac3d6eff5dee7f'), ObjectId('68b1f440d4ac3d6eff5dee80'), ObjectId('68b1f440d4ac3d6eff5dee81'), ObjectId('68b1f440d4ac3d6eff5dee82'), ObjectId('68b1f440d4ac3d6eff5dee83'), ObjectId('68b1f440d4ac3d6eff5dee84'), ObjectId('68b1f440d4ac3d6eff5dee85'), ObjectId('68b1f440d4ac3d6eff5dee86'), ObjectId('68b1f440d4ac3d6eff5dee87'), ObjectId('68b1f440d4ac3d6eff5dee88'), ObjectId('68b1f440d4ac3d6eff5dee89'), ObjectId('68b1f440d4ac3d6eff5dee8a'), ObjectId('68b1f440d4ac3d6eff5dee8b'), ObjectId('68b1f440d4ac3d6eff5dee8c'), ObjectId('68b1f440d4ac3d6eff5dee8d'), ObjectId('68b1f440d4ac3d6eff5dee8e'), ObjectId('68b1f440d4ac3d6eff5dee8f'), ObjectId('68b1f440d4ac3d6eff5dee90'), ObjectId('68b1f440d4ac3d6eff5dee91'), ObjectId('68b1f440d4ac3d6eff5dee92'), ObjectId('68b1f440d4ac3d6eff5dee93'), ObjectId('68b1f440d4ac3d6eff5dee94'), ObjectId('68b1f440d4ac3d6eff5dee95'), ObjectId('68b1f440d4ac3d6eff5dee96'), ObjectId('68b1f440d4ac3d6eff5dee97'), ObjectId('68b1f440d4ac3d6eff5dee98'), ObjectId('68b1f440d4ac3d6eff5dee99'), ObjectId('68b1f440d4ac3d6eff5dee9a'), ObjectId('68b1f440d4ac3d6eff5dee9b'), ObjectId('68b1f440d4ac3d6eff5dee9c'), ObjectId('68b1f440d4ac3d6eff5dee9d'), ObjectId('68b1f440d4ac3d6eff5dee9e'), ObjectId('68b1f440d4ac3d6eff5dee9f'), ObjectId('68b1f440d4ac3d6eff5deea0'), ObjectId('68b1f440d4ac3d6eff5deea1'), ObjectId('68b1f440d4ac3d6eff5deea2'), ObjectId('68b1f440d4ac3d6eff5deea3'), ObjectId('68b1f440d4ac3d6eff5deea4'), ObjectId('68b1f440d4ac3d6eff5deea5'), ObjectId('68b1f440d4ac3d6eff5deea6'), ObjectId('68b1f440d4ac3d6eff5deea7'), ObjectId('68b1f440d4ac3d6eff5deea8'), ObjectId('68b1f440d4ac3d6eff5deea9'), ObjectId('68b1f440d4ac3d6eff5deeaa'), ObjectId('68b1f440d4ac3d6eff5deeab'), ObjectId('68b1f440d4ac3d6eff5deeac'), ObjectId('68b1f440d4ac3d6eff5deead'), ObjectId('68b1f440d4ac3d6eff5deeae'), ObjectId('68b1f440d4ac3d6eff5deeaf'), ObjectId('68b1f440d4ac3d6eff5deeb0'), ObjectId('68b1f440d4ac3d6eff5deeb1'), ObjectId('68b1f440d4ac3d6eff5deeb2'), ObjectId('68b1f440d4ac3d6eff5deeb3'), ObjectId('68b1f440d4ac3d6eff5deeb4'), ObjectId('68b1f440d4ac3d6eff5deeb5'), ObjectId('68b1f440d4ac3d6eff5deeb6'), ObjectId('68b1f440d4ac3d6eff5deeb7'), ObjectId('68b1f440d4ac3d6eff5deeb8'), ObjectId('68b1f440d4ac3d6eff5deeb9'), ObjectId('68b1f440d4ac3d6eff5deeba'), ObjectId('68b1f440d4ac3d6eff5deebb'), ObjectId('68b1f440d4ac3d6eff5deebc'), ObjectId('68b1f440d4ac3d6eff5deebd'), ObjectId('68b1f440d4ac3d6eff5deebe'), ObjectId('68b1f440d4ac3d6eff5deebf'), ObjectId('68b1f440d4ac3d6eff5deec0'), ObjectId('68b1f440d4ac3d6eff5deec1'), ObjectId('68b1f440d4ac3d6eff5deec2'), ObjectId('68b1f440d4ac3d6eff5deec3'), ObjectId('68b1f440d4ac3d6eff5deec4'), ObjectId('68b1f440d4ac3d6eff5deec5'), ObjectId('68b1f440d4ac3d6eff5deec6'), ObjectId('68b1f440d4ac3d6eff5deec7'), ObjectId('68b1f440d4ac3d6eff5deec8'), ObjectId('68b1f440d4ac3d6eff5deec9'), ObjectId('68b1f440d4ac3d6eff5deeca'), ObjectId('68b1f440d4ac3d6eff5deecb'), ObjectId('68b1f440d4ac3d6eff5deecc'), ObjectId('68b1f440d4ac3d6eff5deecd'), ObjectId('68b1f440d4ac3d6eff5deece'), ObjectId('68b1f440d4ac3d6eff5deecf'), ObjectId('68b1f440d4ac3d6eff5deed0'), ObjectId('68b1f440d4ac3d6eff5deed1'), ObjectId('68b1f440d4ac3d6eff5deed2'), ObjectId('68b1f440d4ac3d6eff5deed3'), ObjectId('68b1f440d4ac3d6eff5deed4'), ObjectId('68b1f440d4ac3d6eff5deed5'), ObjectId('68b1f440d4ac3d6eff5deed6'), ObjectId('68b1f440d4ac3d6eff5deed7'), ObjectId('68b1f440d4ac3d6eff5deed8'), ObjectId('68b1f440d4ac3d6eff5deed9'), ObjectId('68b1f440d4ac3d6eff5deeda'), ObjectId('68b1f440d4ac3d6eff5deedb'), ObjectId('68b1f440d4ac3d6eff5deedc'), ObjectId('68b1f440d4ac3d6eff5deedd'), ObjectId('68b1f440d4ac3d6eff5deede'), ObjectId('68b1f440d4ac3d6eff5deedf'), ObjectId('68b1f440d4ac3d6eff5deee0'), ObjectId('68b1f440d4ac3d6eff5deee1'), ObjectId('68b1f440d4ac3d6eff5deee2'), ObjectId('68b1f440d4ac3d6eff5deee3'), ObjectId('68b1f440d4ac3d6eff5deee4'), ObjectId('68b1f440d4ac3d6eff5deee5'), ObjectId('68b1f440d4ac3d6eff5deee6'), ObjectId('68b1f440d4ac3d6eff5deee7'), ObjectId('68b1f440d4ac3d6eff5deee8'), ObjectId('68b1f440d4ac3d6eff5deee9'), ObjectId('68b1f440d4ac3d6eff5deeea'), ObjectId('68b1f440d4ac3d6eff5deeeb'), ObjectId('68b1f440d4ac3d6eff5deeec'), ObjectId('68b1f440d4ac3d6eff5deeed'), ObjectId('68b1f440d4ac3d6eff5deeee'), ObjectId('68b1f440d4ac3d6eff5deeef'), ObjectId('68b1f440d4ac3d6eff5deef0'), ObjectId('68b1f440d4ac3d6eff5deef1'), ObjectId('68b1f440d4ac3d6eff5deef2'), ObjectId('68b1f440d4ac3d6eff5deef3'), ObjectId('68b1f440d4ac3d6eff5deef4'), ObjectId('68b1f440d4ac3d6eff5deef5'), ObjectId('68b1f440d4ac3d6eff5deef6'), ObjectId('68b1f440d4ac3d6eff5deef7'), ObjectId('68b1f440d4ac3d6eff5deef8'), ObjectId('68b1f440d4ac3d6eff5deef9'), ObjectId('68b1f440d4ac3d6eff5deefa'), ObjectId('68b1f440d4ac3d6eff5deefb'), ObjectId('68b1f440d4ac3d6eff5deefc'), ObjectId('68b1f440d4ac3d6eff5deefd'), ObjectId('68b1f440d4ac3d6eff5deefe'), ObjectId('68b1f440d4ac3d6eff5deeff'), ObjectId('68b1f440d4ac3d6eff5def00'), ObjectId('68b1f440d4ac3d6eff5def01'), ObjectId('68b1f440d4ac3d6eff5def02'), ObjectId('68b1f440d4ac3d6eff5def03'), ObjectId('68b1f440d4ac3d6eff5def04'), ObjectId('68b1f440d4ac3d6eff5def05'), ObjectId('68b1f440d4ac3d6eff5def06'), ObjectId('68b1f440d4ac3d6eff5def07'), ObjectId('68b1f440d4ac3d6eff5def08'), ObjectId('68b1f440d4ac3d6eff5def09'), ObjectId('68b1f440d4ac3d6eff5def0a'), ObjectId('68b1f440d4ac3d6eff5def0b'), ObjectId('68b1f440d4ac3d6eff5def0c'), ObjectId('68b1f440d4ac3d6eff5def0d'), ObjectId('68b1f440d4ac3d6eff5def0e'), ObjectId('68b1f440d4ac3d6eff5def0f'), ObjectId('68b1f440d4ac3d6eff5def10'), ObjectId('68b1f440d4ac3d6eff5def11'), ObjectId('68b1f440d4ac3d6eff5def12'), ObjectId('68b1f440d4ac3d6eff5def13'), ObjectId('68b1f440d4ac3d6eff5def14'), ObjectId('68b1f440d4ac3d6eff5def15'), ObjectId('68b1f440d4ac3d6eff5def16'), ObjectId('68b1f440d4ac3d6eff5def17'), ObjectId('68b1f440d4ac3d6eff5def18'), ObjectId('68b1f440d4ac3d6eff5def19'), ObjectId('68b1f440d4ac3d6eff5def1a'), ObjectId('68b1f440d4ac3d6eff5def1b'), ObjectId('68b1f440d4ac3d6eff5def1c'), ObjectId('68b1f440d4ac3d6eff5def1d'), ObjectId('68b1f440d4ac3d6eff5def1e'), ObjectId('68b1f440d4ac3d6eff5def1f'), ObjectId('68b1f440d4ac3d6eff5def20'), ObjectId('68b1f440d4ac3d6eff5def21'), ObjectId('68b1f440d4ac3d6eff5def22'), ObjectId('68b1f440d4ac3d6eff5def23'), ObjectId('68b1f440d4ac3d6eff5def24'), ObjectId('68b1f440d4ac3d6eff5def25'), ObjectId('68b1f440d4ac3d6eff5def26'), ObjectId('68b1f440d4ac3d6eff5def27'), ObjectId('68b1f440d4ac3d6eff5def28'), ObjectId('68b1f440d4ac3d6eff5def29'), ObjectId('68b1f440d4ac3d6eff5def2a'), ObjectId('68b1f440d4ac3d6eff5def2b'), ObjectId('68b1f440d4ac3d6eff5def2c'), ObjectId('68b1f440d4ac3d6eff5def2d'), ObjectId('68b1f440d4ac3d6eff5def2e'), ObjectId('68b1f440d4ac3d6eff5def2f'), ObjectId('68b1f440d4ac3d6eff5def30'), ObjectId('68b1f440d4ac3d6eff5def31'), ObjectId('68b1f440d4ac3d6eff5def32'), ObjectId('68b1f440d4ac3d6eff5def33'), ObjectId('68b1f440d4ac3d6eff5def34'), ObjectId('68b1f440d4ac3d6eff5def35'), ObjectId('68b1f440d4ac3d6eff5def36'), ObjectId('68b1f440d4ac3d6eff5def37'), ObjectId('68b1f440d4ac3d6eff5def38'), ObjectId('68b1f440d4ac3d6eff5def39'), ObjectId('68b1f440d4ac3d6eff5def3a'), ObjectId('68b1f440d4ac3d6eff5def3b'), ObjectId('68b1f440d4ac3d6eff5def3c'), ObjectId('68b1f440d4ac3d6eff5def3d'), ObjectId('68b1f440d4ac3d6eff5def3e'), ObjectId('68b1f440d4ac3d6eff5def3f'), ObjectId('68b1f440d4ac3d6eff5def40'), ObjectId('68b1f440d4ac3d6eff5def41'), ObjectId('68b1f440d4ac3d6eff5def42'), ObjectId('68b1f440d4ac3d6eff5def43'), ObjectId('68b1f440d4ac3d6eff5def44'), ObjectId('68b1f440d4ac3d6eff5def45'), ObjectId('68b1f440d4ac3d6eff5def46'), ObjectId('68b1f440d4ac3d6eff5def47'), ObjectId('68b1f440d4ac3d6eff5def48'), ObjectId('68b1f440d4ac3d6eff5def49'), ObjectId('68b1f440d4ac3d6eff5def4a'), ObjectId('68b1f440d4ac3d6eff5def4b'), ObjectId('68b1f440d4ac3d6eff5def4c'), ObjectId('68b1f440d4ac3d6eff5def4d'), ObjectId('68b1f440d4ac3d6eff5def4e'), ObjectId('68b1f440d4ac3d6eff5def4f'), ObjectId('68b1f440d4ac3d6eff5def50'), ObjectId('68b1f440d4ac3d6eff5def51'), ObjectId('68b1f440d4ac3d6eff5def52'), ObjectId('68b1f440d4ac3d6eff5def53'), ObjectId('68b1f440d4ac3d6eff5def54'), ObjectId('68b1f440d4ac3d6eff5def55'), ObjectId('68b1f440d4ac3d6eff5def56'), ObjectId('68b1f440d4ac3d6eff5def57'), ObjectId('68b1f440d4ac3d6eff5def58'), ObjectId('68b1f440d4ac3d6eff5def59'), ObjectId('68b1f440d4ac3d6eff5def5a'), ObjectId('68b1f440d4ac3d6eff5def5b'), ObjectId('68b1f440d4ac3d6eff5def5c'), ObjectId('68b1f440d4ac3d6eff5def5d'), ObjectId('68b1f440d4ac3d6eff5def5e'), ObjectId('68b1f440d4ac3d6eff5def5f'), ObjectId('68b1f440d4ac3d6eff5def60'), ObjectId('68b1f440d4ac3d6eff5def61'), ObjectId('68b1f440d4ac3d6eff5def62'), ObjectId('68b1f440d4ac3d6eff5def63'), ObjectId('68b1f440d4ac3d6eff5def64'), ObjectId('68b1f440d4ac3d6eff5def65'), ObjectId('68b1f440d4ac3d6eff5def66'), ObjectId('68b1f440d4ac3d6eff5def67'), ObjectId('68b1f440d4ac3d6eff5def68'), ObjectId('68b1f440d4ac3d6eff5def69'), ObjectId('68b1f440d4ac3d6eff5def6a'), ObjectId('68b1f440d4ac3d6eff5def6b'), ObjectId('68b1f440d4ac3d6eff5def6c'), ObjectId('68b1f440d4ac3d6eff5def6d'), ObjectId('68b1f440d4ac3d6eff5def6e'), ObjectId('68b1f440d4ac3d6eff5def6f'), ObjectId('68b1f440d4ac3d6eff5def70'), ObjectId('68b1f440d4ac3d6eff5def71'), ObjectId('68b1f440d4ac3d6eff5def72'), ObjectId('68b1f440d4ac3d6eff5def73'), ObjectId('68b1f440d4ac3d6eff5def74'), ObjectId('68b1f440d4ac3d6eff5def75'), ObjectId('68b1f440d4ac3d6eff5def76'), ObjectId('68b1f440d4ac3d6eff5def77'), ObjectId('68b1f440d4ac3d6eff5def78'), ObjectId('68b1f440d4ac3d6eff5def79'), ObjectId('68b1f440d4ac3d6eff5def7a'), ObjectId('68b1f440d4ac3d6eff5def7b'), ObjectId('68b1f440d4ac3d6eff5def7c'), ObjectId('68b1f440d4ac3d6eff5def7d'), ObjectId('68b1f440d4ac3d6eff5def7e'), ObjectId('68b1f440d4ac3d6eff5def7f'), ObjectId('68b1f440d4ac3d6eff5def80'), ObjectId('68b1f440d4ac3d6eff5def81'), ObjectId('68b1f440d4ac3d6eff5def82'), ObjectId('68b1f440d4ac3d6eff5def83'), ObjectId('68b1f440d4ac3d6eff5def84'), ObjectId('68b1f440d4ac3d6eff5def85'), ObjectId('68b1f440d4ac3d6eff5def86'), ObjectId('68b1f440d4ac3d6eff5def87'), ObjectId('68b1f440d4ac3d6eff5def88'), ObjectId('68b1f440d4ac3d6eff5def89'), ObjectId('68b1f440d4ac3d6eff5def8a'), ObjectId('68b1f440d4ac3d6eff5def8b'), ObjectId('68b1f440d4ac3d6eff5def8c'), ObjectId('68b1f440d4ac3d6eff5def8d'), ObjectId('68b1f440d4ac3d6eff5def8e'), ObjectId('68b1f440d4ac3d6eff5def8f'), ObjectId('68b1f440d4ac3d6eff5def90'), ObjectId('68b1f440d4ac3d6eff5def91'), ObjectId('68b1f440d4ac3d6eff5def92'), ObjectId('68b1f440d4ac3d6eff5def93'), ObjectId('68b1f440d4ac3d6eff5def94'), ObjectId('68b1f440d4ac3d6eff5def95'), ObjectId('68b1f440d4ac3d6eff5def96'), ObjectId('68b1f440d4ac3d6eff5def97'), ObjectId('68b1f440d4ac3d6eff5def98'), ObjectId('68b1f440d4ac3d6eff5def99'), ObjectId('68b1f440d4ac3d6eff5def9a'), ObjectId('68b1f440d4ac3d6eff5def9b'), ObjectId('68b1f440d4ac3d6eff5def9c'), ObjectId('68b1f440d4ac3d6eff5def9d'), ObjectId('68b1f440d4ac3d6eff5def9e'), ObjectId('68b1f440d4ac3d6eff5def9f'), ObjectId('68b1f440d4ac3d6eff5defa0'), ObjectId('68b1f440d4ac3d6eff5defa1'), ObjectId('68b1f440d4ac3d6eff5defa2'), ObjectId('68b1f440d4ac3d6eff5defa3'), ObjectId('68b1f440d4ac3d6eff5defa4'), ObjectId('68b1f440d4ac3d6eff5defa5'), ObjectId('68b1f440d4ac3d6eff5defa6'), ObjectId('68b1f440d4ac3d6eff5defa7'), ObjectId('68b1f440d4ac3d6eff5defa8'), ObjectId('68b1f440d4ac3d6eff5defa9'), ObjectId('68b1f440d4ac3d6eff5defaa'), ObjectId('68b1f440d4ac3d6eff5defab'), ObjectId('68b1f440d4ac3d6eff5defac'), ObjectId('68b1f440d4ac3d6eff5defad'), ObjectId('68b1f440d4ac3d6eff5defae'), ObjectId('68b1f440d4ac3d6eff5defaf'), ObjectId('68b1f440d4ac3d6eff5defb0'), ObjectId('68b1f440d4ac3d6eff5defb1'), ObjectId('68b1f440d4ac3d6eff5defb2'), ObjectId('68b1f440d4ac3d6eff5defb3'), ObjectId('68b1f440d4ac3d6eff5defb4'), ObjectId('68b1f440d4ac3d6eff5defb5'), ObjectId('68b1f440d4ac3d6eff5defb6'), ObjectId('68b1f440d4ac3d6eff5defb7'), ObjectId('68b1f440d4ac3d6eff5defb8'), ObjectId('68b1f440d4ac3d6eff5defb9'), ObjectId('68b1f440d4ac3d6eff5defba'), ObjectId('68b1f440d4ac3d6eff5defbb'), ObjectId('68b1f440d4ac3d6eff5defbc'), ObjectId('68b1f440d4ac3d6eff5defbd'), ObjectId('68b1f440d4ac3d6eff5defbe'), ObjectId('68b1f440d4ac3d6eff5defbf'), ObjectId('68b1f440d4ac3d6eff5defc0'), ObjectId('68b1f440d4ac3d6eff5defc1'), ObjectId('68b1f440d4ac3d6eff5defc2'), ObjectId('68b1f440d4ac3d6eff5defc3'), ObjectId('68b1f440d4ac3d6eff5defc4'), ObjectId('68b1f440d4ac3d6eff5defc5'), ObjectId('68b1f440d4ac3d6eff5defc6'), ObjectId('68b1f440d4ac3d6eff5defc7'), ObjectId('68b1f440d4ac3d6eff5defc8'), ObjectId('68b1f440d4ac3d6eff5defc9'), ObjectId('68b1f440d4ac3d6eff5defca'), ObjectId('68b1f440d4ac3d6eff5defcb'), ObjectId('68b1f440d4ac3d6eff5defcc'), ObjectId('68b1f440d4ac3d6eff5defcd'), ObjectId('68b1f440d4ac3d6eff5defce'), ObjectId('68b1f440d4ac3d6eff5defcf'), ObjectId('68b1f440d4ac3d6eff5defd0'), ObjectId('68b1f440d4ac3d6eff5defd1'), ObjectId('68b1f440d4ac3d6eff5defd2'), ObjectId('68b1f440d4ac3d6eff5defd3'), ObjectId('68b1f440d4ac3d6eff5defd4'), ObjectId('68b1f440d4ac3d6eff5defd5'), ObjectId('68b1f440d4ac3d6eff5defd6'), ObjectId('68b1f440d4ac3d6eff5defd7'), ObjectId('68b1f440d4ac3d6eff5defd8'), ObjectId('68b1f440d4ac3d6eff5defd9'), ObjectId('68b1f440d4ac3d6eff5defda'), ObjectId('68b1f440d4ac3d6eff5defdb'), ObjectId('68b1f440d4ac3d6eff5defdc'), ObjectId('68b1f440d4ac3d6eff5defdd'), ObjectId('68b1f440d4ac3d6eff5defde'), ObjectId('68b1f440d4ac3d6eff5defdf'), ObjectId('68b1f440d4ac3d6eff5defe0'), ObjectId('68b1f440d4ac3d6eff5defe1'), ObjectId('68b1f440d4ac3d6eff5defe2'), ObjectId('68b1f440d4ac3d6eff5defe3'), ObjectId('68b1f440d4ac3d6eff5defe4'), ObjectId('68b1f440d4ac3d6eff5defe5'), ObjectId('68b1f440d4ac3d6eff5defe6'), ObjectId('68b1f440d4ac3d6eff5defe7'), ObjectId('68b1f440d4ac3d6eff5defe8'), ObjectId('68b1f440d4ac3d6eff5defe9'), ObjectId('68b1f440d4ac3d6eff5defea'), ObjectId('68b1f440d4ac3d6eff5defeb'), ObjectId('68b1f440d4ac3d6eff5defec'), ObjectId('68b1f440d4ac3d6eff5defed'), ObjectId('68b1f440d4ac3d6eff5defee'), ObjectId('68b1f440d4ac3d6eff5defef'), ObjectId('68b1f440d4ac3d6eff5deff0'), ObjectId('68b1f440d4ac3d6eff5deff1'), ObjectId('68b1f440d4ac3d6eff5deff2'), ObjectId('68b1f440d4ac3d6eff5deff3'), ObjectId('68b1f440d4ac3d6eff5deff4'), ObjectId('68b1f440d4ac3d6eff5deff5'), ObjectId('68b1f440d4ac3d6eff5deff6'), ObjectId('68b1f440d4ac3d6eff5deff7'), ObjectId('68b1f440d4ac3d6eff5deff8'), ObjectId('68b1f440d4ac3d6eff5deff9'), ObjectId('68b1f440d4ac3d6eff5deffa'), ObjectId('68b1f440d4ac3d6eff5deffb'), ObjectId('68b1f440d4ac3d6eff5deffc'), ObjectId('68b1f440d4ac3d6eff5deffd'), ObjectId('68b1f440d4ac3d6eff5deffe'), ObjectId('68b1f440d4ac3d6eff5defff'), ObjectId('68b1f440d4ac3d6eff5df000'), ObjectId('68b1f440d4ac3d6eff5df001'), ObjectId('68b1f440d4ac3d6eff5df002'), ObjectId('68b1f440d4ac3d6eff5df003'), ObjectId('68b1f440d4ac3d6eff5df004'), ObjectId('68b1f440d4ac3d6eff5df005'), ObjectId('68b1f440d4ac3d6eff5df006'), ObjectId('68b1f440d4ac3d6eff5df007'), ObjectId('68b1f440d4ac3d6eff5df008'), ObjectId('68b1f440d4ac3d6eff5df009'), ObjectId('68b1f440d4ac3d6eff5df00a'), ObjectId('68b1f440d4ac3d6eff5df00b'), ObjectId('68b1f440d4ac3d6eff5df00c'), ObjectId('68b1f440d4ac3d6eff5df00d'), ObjectId('68b1f440d4ac3d6eff5df00e'), ObjectId('68b1f440d4ac3d6eff5df00f'), ObjectId('68b1f440d4ac3d6eff5df010'), ObjectId('68b1f440d4ac3d6eff5df011'), ObjectId('68b1f440d4ac3d6eff5df012'), ObjectId('68b1f440d4ac3d6eff5df013'), ObjectId('68b1f440d4ac3d6eff5df014'), ObjectId('68b1f440d4ac3d6eff5df015'), ObjectId('68b1f440d4ac3d6eff5df016'), ObjectId('68b1f440d4ac3d6eff5df017'), ObjectId('68b1f440d4ac3d6eff5df018'), ObjectId('68b1f440d4ac3d6eff5df019'), ObjectId('68b1f440d4ac3d6eff5df01a'), ObjectId('68b1f440d4ac3d6eff5df01b'), ObjectId('68b1f440d4ac3d6eff5df01c'), ObjectId('68b1f440d4ac3d6eff5df01d'), ObjectId('68b1f440d4ac3d6eff5df01e'), ObjectId('68b1f440d4ac3d6eff5df01f'), ObjectId('68b1f440d4ac3d6eff5df020'), ObjectId('68b1f440d4ac3d6eff5df021'), ObjectId('68b1f440d4ac3d6eff5df022'), ObjectId('68b1f440d4ac3d6eff5df023'), ObjectId('68b1f440d4ac3d6eff5df024'), ObjectId('68b1f440d4ac3d6eff5df025'), ObjectId('68b1f440d4ac3d6eff5df026'), ObjectId('68b1f440d4ac3d6eff5df027'), ObjectId('68b1f440d4ac3d6eff5df028'), ObjectId('68b1f440d4ac3d6eff5df029'), ObjectId('68b1f440d4ac3d6eff5df02a'), ObjectId('68b1f440d4ac3d6eff5df02b'), ObjectId('68b1f440d4ac3d6eff5df02c'), ObjectId('68b1f440d4ac3d6eff5df02d'), ObjectId('68b1f440d4ac3d6eff5df02e'), ObjectId('68b1f440d4ac3d6eff5df02f'), ObjectId('68b1f440d4ac3d6eff5df030'), ObjectId('68b1f440d4ac3d6eff5df031'), ObjectId('68b1f440d4ac3d6eff5df032'), ObjectId('68b1f440d4ac3d6eff5df033'), ObjectId('68b1f440d4ac3d6eff5df034'), ObjectId('68b1f440d4ac3d6eff5df035'), ObjectId('68b1f440d4ac3d6eff5df036'), ObjectId('68b1f440d4ac3d6eff5df037'), ObjectId('68b1f440d4ac3d6eff5df038'), ObjectId('68b1f440d4ac3d6eff5df039'), ObjectId('68b1f440d4ac3d6eff5df03a'), ObjectId('68b1f440d4ac3d6eff5df03b'), ObjectId('68b1f440d4ac3d6eff5df03c'), ObjectId('68b1f440d4ac3d6eff5df03d'), ObjectId('68b1f440d4ac3d6eff5df03e'), ObjectId('68b1f440d4ac3d6eff5df03f'), ObjectId('68b1f440d4ac3d6eff5df040'), ObjectId('68b1f440d4ac3d6eff5df041'), ObjectId('68b1f440d4ac3d6eff5df042'), ObjectId('68b1f440d4ac3d6eff5df043'), ObjectId('68b1f440d4ac3d6eff5df044'), ObjectId('68b1f440d4ac3d6eff5df045'), ObjectId('68b1f440d4ac3d6eff5df046'), ObjectId('68b1f440d4ac3d6eff5df047')], acknowledged=True)"
      ]
     },
     "execution_count": 21,
     "metadata": {},
     "output_type": "execute_result"
    }
   ],
   "source": [
    "# Train collection\n",
    "db[\"train\"].insert_many(train_data)\n",
    "\n",
    "# Test collection\n",
    "db[\"test\"].insert_many(test_data)\n"
   ]
  },
  {
   "cell_type": "markdown",
   "id": "534e17cb",
   "metadata": {},
   "source": [
    "# get data"
   ]
  },
  {
   "cell_type": "code",
   "execution_count": 32,
   "id": "585a5043",
   "metadata": {},
   "outputs": [
    {
     "name": "stdout",
     "output_type": "stream",
     "text": [
      "['train', 'test']\n"
     ]
    }
   ],
   "source": [
    "print(db.list_collection_names())\n"
   ]
  },
  {
   "cell_type": "code",
   "execution_count": 33,
   "id": "3993bba8",
   "metadata": {},
   "outputs": [
    {
     "name": "stdout",
     "output_type": "stream",
     "text": [
      "Train count: 10000\n",
      "Test count: 2000\n"
     ]
    }
   ],
   "source": [
    "print(\"Train count:\", db[\"train\"].count_documents({}))\n",
    "print(\"Test count:\", db[\"test\"].count_documents({}))\n"
   ]
  },
  {
   "cell_type": "code",
   "execution_count": 35,
   "id": "322e4e05",
   "metadata": {},
   "outputs": [
    {
     "name": "stdout",
     "output_type": "stream",
     "text": [
      "{'_id': ObjectId('68b1f437d4ac3d6eff5dc168'), 'field_id': 'F00001', 'soil_ph': 6.25, 'organic_matter': 2.66, 'sand_pct': 41.6, 'temperature': 25.2, 'humidity': 70, 'rainfall': 110.2, 'ndvi': 0.46, 'yield': 4105.8}\n",
      "{'_id': ObjectId('68b1f437d4ac3d6eff5dc169'), 'field_id': 'F00002', 'soil_ph': 6.7, 'organic_matter': 3.66, 'sand_pct': 40.2, 'temperature': 26.9, 'humidity': 78, 'rainfall': 126.3, 'ndvi': 0.59, 'yield': 4247.8}\n",
      "{'_id': ObjectId('68b1f437d4ac3d6eff5dc16a'), 'field_id': 'F00003', 'soil_ph': 7.21, 'organic_matter': 3.45, 'sand_pct': 40.0, 'temperature': 27.6, 'humidity': 66, 'rainfall': 109.4, 'ndvi': 0.64, 'yield': 4021.8}\n",
      "{'_id': ObjectId('68b1f437d4ac3d6eff5dc16b'), 'field_id': 'F00004', 'soil_ph': 5.73, 'organic_matter': 2.48, 'sand_pct': 56.9, 'temperature': 29.6, 'humidity': 79, 'rainfall': 155.3, 'ndvi': 0.62, 'yield': 4326.8}\n",
      "{'_id': ObjectId('68b1f437d4ac3d6eff5dc16c'), 'field_id': 'F00005', 'soil_ph': 6.88, 'organic_matter': 3.61, 'sand_pct': 30.6, 'temperature': 25.0, 'humidity': 80, 'rainfall': 172.6, 'ndvi': 0.62, 'yield': 3708.0}\n"
     ]
    }
   ],
   "source": [
    "for doc in db[\"train\"].find().limit(5):\n",
    "    print(doc)\n"
   ]
  },
  {
   "cell_type": "code",
   "execution_count": 36,
   "id": "d5487783",
   "metadata": {},
   "outputs": [],
   "source": [
    "train_df = pd.DataFrame(list(db[\"train\"].find()))\n",
    "test_df = pd.DataFrame(list(db[\"test\"].find()))"
   ]
  },
  {
   "cell_type": "code",
   "execution_count": 37,
   "id": "97929335",
   "metadata": {},
   "outputs": [
    {
     "data": {
      "text/html": [
       "<div>\n",
       "<style scoped>\n",
       "    .dataframe tbody tr th:only-of-type {\n",
       "        vertical-align: middle;\n",
       "    }\n",
       "\n",
       "    .dataframe tbody tr th {\n",
       "        vertical-align: top;\n",
       "    }\n",
       "\n",
       "    .dataframe thead th {\n",
       "        text-align: right;\n",
       "    }\n",
       "</style>\n",
       "<table border=\"1\" class=\"dataframe\">\n",
       "  <thead>\n",
       "    <tr style=\"text-align: right;\">\n",
       "      <th></th>\n",
       "      <th>_id</th>\n",
       "      <th>field_id</th>\n",
       "      <th>soil_ph</th>\n",
       "      <th>organic_matter</th>\n",
       "      <th>sand_pct</th>\n",
       "      <th>temperature</th>\n",
       "      <th>humidity</th>\n",
       "      <th>rainfall</th>\n",
       "      <th>ndvi</th>\n",
       "      <th>yield</th>\n",
       "    </tr>\n",
       "  </thead>\n",
       "  <tbody>\n",
       "    <tr>\n",
       "      <th>0</th>\n",
       "      <td>68b1f437d4ac3d6eff5dc168</td>\n",
       "      <td>F00001</td>\n",
       "      <td>6.25</td>\n",
       "      <td>2.66</td>\n",
       "      <td>41.6</td>\n",
       "      <td>25.2</td>\n",
       "      <td>70</td>\n",
       "      <td>110.2</td>\n",
       "      <td>0.46</td>\n",
       "      <td>4105.8</td>\n",
       "    </tr>\n",
       "    <tr>\n",
       "      <th>1</th>\n",
       "      <td>68b1f437d4ac3d6eff5dc169</td>\n",
       "      <td>F00002</td>\n",
       "      <td>6.70</td>\n",
       "      <td>3.66</td>\n",
       "      <td>40.2</td>\n",
       "      <td>26.9</td>\n",
       "      <td>78</td>\n",
       "      <td>126.3</td>\n",
       "      <td>0.59</td>\n",
       "      <td>4247.8</td>\n",
       "    </tr>\n",
       "    <tr>\n",
       "      <th>2</th>\n",
       "      <td>68b1f437d4ac3d6eff5dc16a</td>\n",
       "      <td>F00003</td>\n",
       "      <td>7.21</td>\n",
       "      <td>3.45</td>\n",
       "      <td>40.0</td>\n",
       "      <td>27.6</td>\n",
       "      <td>66</td>\n",
       "      <td>109.4</td>\n",
       "      <td>0.64</td>\n",
       "      <td>4021.8</td>\n",
       "    </tr>\n",
       "    <tr>\n",
       "      <th>3</th>\n",
       "      <td>68b1f437d4ac3d6eff5dc16b</td>\n",
       "      <td>F00004</td>\n",
       "      <td>5.73</td>\n",
       "      <td>2.48</td>\n",
       "      <td>56.9</td>\n",
       "      <td>29.6</td>\n",
       "      <td>79</td>\n",
       "      <td>155.3</td>\n",
       "      <td>0.62</td>\n",
       "      <td>4326.8</td>\n",
       "    </tr>\n",
       "    <tr>\n",
       "      <th>4</th>\n",
       "      <td>68b1f437d4ac3d6eff5dc16c</td>\n",
       "      <td>F00005</td>\n",
       "      <td>6.88</td>\n",
       "      <td>3.61</td>\n",
       "      <td>30.6</td>\n",
       "      <td>25.0</td>\n",
       "      <td>80</td>\n",
       "      <td>172.6</td>\n",
       "      <td>0.62</td>\n",
       "      <td>3708.0</td>\n",
       "    </tr>\n",
       "  </tbody>\n",
       "</table>\n",
       "</div>"
      ],
      "text/plain": [
       "                        _id field_id  soil_ph  organic_matter  sand_pct  \\\n",
       "0  68b1f437d4ac3d6eff5dc168   F00001     6.25            2.66      41.6   \n",
       "1  68b1f437d4ac3d6eff5dc169   F00002     6.70            3.66      40.2   \n",
       "2  68b1f437d4ac3d6eff5dc16a   F00003     7.21            3.45      40.0   \n",
       "3  68b1f437d4ac3d6eff5dc16b   F00004     5.73            2.48      56.9   \n",
       "4  68b1f437d4ac3d6eff5dc16c   F00005     6.88            3.61      30.6   \n",
       "\n",
       "   temperature  humidity  rainfall  ndvi   yield  \n",
       "0         25.2        70     110.2  0.46  4105.8  \n",
       "1         26.9        78     126.3  0.59  4247.8  \n",
       "2         27.6        66     109.4  0.64  4021.8  \n",
       "3         29.6        79     155.3  0.62  4326.8  \n",
       "4         25.0        80     172.6  0.62  3708.0  "
      ]
     },
     "execution_count": 37,
     "metadata": {},
     "output_type": "execute_result"
    }
   ],
   "source": [
    "train_df.head()"
   ]
  },
  {
   "cell_type": "code",
   "execution_count": 38,
   "id": "19c0fe27",
   "metadata": {},
   "outputs": [],
   "source": [
    "if \"_id\" in train_df.columns:\n",
    "    train_df = train_df.drop(columns=[\"_id\"])\n",
    "if \"_id\" in test_df.columns:\n",
    "    test_df = test_df.drop(columns=[\"_id\"])"
   ]
  },
  {
   "cell_type": "code",
   "execution_count": 39,
   "id": "4bde3e82",
   "metadata": {},
   "outputs": [
    {
     "data": {
      "text/html": [
       "<div>\n",
       "<style scoped>\n",
       "    .dataframe tbody tr th:only-of-type {\n",
       "        vertical-align: middle;\n",
       "    }\n",
       "\n",
       "    .dataframe tbody tr th {\n",
       "        vertical-align: top;\n",
       "    }\n",
       "\n",
       "    .dataframe thead th {\n",
       "        text-align: right;\n",
       "    }\n",
       "</style>\n",
       "<table border=\"1\" class=\"dataframe\">\n",
       "  <thead>\n",
       "    <tr style=\"text-align: right;\">\n",
       "      <th></th>\n",
       "      <th>field_id</th>\n",
       "      <th>soil_ph</th>\n",
       "      <th>organic_matter</th>\n",
       "      <th>sand_pct</th>\n",
       "      <th>temperature</th>\n",
       "      <th>humidity</th>\n",
       "      <th>rainfall</th>\n",
       "      <th>ndvi</th>\n",
       "      <th>yield</th>\n",
       "    </tr>\n",
       "  </thead>\n",
       "  <tbody>\n",
       "    <tr>\n",
       "      <th>0</th>\n",
       "      <td>F00001</td>\n",
       "      <td>6.25</td>\n",
       "      <td>2.66</td>\n",
       "      <td>41.6</td>\n",
       "      <td>25.2</td>\n",
       "      <td>70</td>\n",
       "      <td>110.2</td>\n",
       "      <td>0.46</td>\n",
       "      <td>4105.8</td>\n",
       "    </tr>\n",
       "    <tr>\n",
       "      <th>1</th>\n",
       "      <td>F00002</td>\n",
       "      <td>6.70</td>\n",
       "      <td>3.66</td>\n",
       "      <td>40.2</td>\n",
       "      <td>26.9</td>\n",
       "      <td>78</td>\n",
       "      <td>126.3</td>\n",
       "      <td>0.59</td>\n",
       "      <td>4247.8</td>\n",
       "    </tr>\n",
       "    <tr>\n",
       "      <th>2</th>\n",
       "      <td>F00003</td>\n",
       "      <td>7.21</td>\n",
       "      <td>3.45</td>\n",
       "      <td>40.0</td>\n",
       "      <td>27.6</td>\n",
       "      <td>66</td>\n",
       "      <td>109.4</td>\n",
       "      <td>0.64</td>\n",
       "      <td>4021.8</td>\n",
       "    </tr>\n",
       "    <tr>\n",
       "      <th>3</th>\n",
       "      <td>F00004</td>\n",
       "      <td>5.73</td>\n",
       "      <td>2.48</td>\n",
       "      <td>56.9</td>\n",
       "      <td>29.6</td>\n",
       "      <td>79</td>\n",
       "      <td>155.3</td>\n",
       "      <td>0.62</td>\n",
       "      <td>4326.8</td>\n",
       "    </tr>\n",
       "    <tr>\n",
       "      <th>4</th>\n",
       "      <td>F00005</td>\n",
       "      <td>6.88</td>\n",
       "      <td>3.61</td>\n",
       "      <td>30.6</td>\n",
       "      <td>25.0</td>\n",
       "      <td>80</td>\n",
       "      <td>172.6</td>\n",
       "      <td>0.62</td>\n",
       "      <td>3708.0</td>\n",
       "    </tr>\n",
       "  </tbody>\n",
       "</table>\n",
       "</div>"
      ],
      "text/plain": [
       "  field_id  soil_ph  organic_matter  sand_pct  temperature  humidity  \\\n",
       "0   F00001     6.25            2.66      41.6         25.2        70   \n",
       "1   F00002     6.70            3.66      40.2         26.9        78   \n",
       "2   F00003     7.21            3.45      40.0         27.6        66   \n",
       "3   F00004     5.73            2.48      56.9         29.6        79   \n",
       "4   F00005     6.88            3.61      30.6         25.0        80   \n",
       "\n",
       "   rainfall  ndvi   yield  \n",
       "0     110.2  0.46  4105.8  \n",
       "1     126.3  0.59  4247.8  \n",
       "2     109.4  0.64  4021.8  \n",
       "3     155.3  0.62  4326.8  \n",
       "4     172.6  0.62  3708.0  "
      ]
     },
     "execution_count": 39,
     "metadata": {},
     "output_type": "execute_result"
    }
   ],
   "source": [
    "train_df.head()"
   ]
  },
  {
   "cell_type": "code",
   "execution_count": 40,
   "id": "c8e1a972",
   "metadata": {},
   "outputs": [
    {
     "data": {
      "text/html": [
       "<div>\n",
       "<style scoped>\n",
       "    .dataframe tbody tr th:only-of-type {\n",
       "        vertical-align: middle;\n",
       "    }\n",
       "\n",
       "    .dataframe tbody tr th {\n",
       "        vertical-align: top;\n",
       "    }\n",
       "\n",
       "    .dataframe thead th {\n",
       "        text-align: right;\n",
       "    }\n",
       "</style>\n",
       "<table border=\"1\" class=\"dataframe\">\n",
       "  <thead>\n",
       "    <tr style=\"text-align: right;\">\n",
       "      <th></th>\n",
       "      <th>field_id</th>\n",
       "      <th>soil_ph</th>\n",
       "      <th>organic_matter</th>\n",
       "      <th>sand_pct</th>\n",
       "      <th>temperature</th>\n",
       "      <th>humidity</th>\n",
       "      <th>rainfall</th>\n",
       "      <th>ndvi</th>\n",
       "    </tr>\n",
       "  </thead>\n",
       "  <tbody>\n",
       "    <tr>\n",
       "      <th>0</th>\n",
       "      <td>T00001</td>\n",
       "      <td>6.25</td>\n",
       "      <td>2.15</td>\n",
       "      <td>47.2</td>\n",
       "      <td>27.9</td>\n",
       "      <td>82</td>\n",
       "      <td>176.5</td>\n",
       "      <td>0.60</td>\n",
       "    </tr>\n",
       "    <tr>\n",
       "      <th>1</th>\n",
       "      <td>T00002</td>\n",
       "      <td>7.40</td>\n",
       "      <td>2.12</td>\n",
       "      <td>54.2</td>\n",
       "      <td>25.0</td>\n",
       "      <td>74</td>\n",
       "      <td>167.5</td>\n",
       "      <td>0.50</td>\n",
       "    </tr>\n",
       "    <tr>\n",
       "      <th>2</th>\n",
       "      <td>T00003</td>\n",
       "      <td>6.96</td>\n",
       "      <td>3.77</td>\n",
       "      <td>52.8</td>\n",
       "      <td>29.2</td>\n",
       "      <td>75</td>\n",
       "      <td>155.1</td>\n",
       "      <td>0.43</td>\n",
       "    </tr>\n",
       "    <tr>\n",
       "      <th>3</th>\n",
       "      <td>T00004</td>\n",
       "      <td>6.70</td>\n",
       "      <td>2.12</td>\n",
       "      <td>34.6</td>\n",
       "      <td>27.7</td>\n",
       "      <td>81</td>\n",
       "      <td>123.6</td>\n",
       "      <td>0.45</td>\n",
       "    </tr>\n",
       "    <tr>\n",
       "      <th>4</th>\n",
       "      <td>T00005</td>\n",
       "      <td>5.81</td>\n",
       "      <td>2.18</td>\n",
       "      <td>34.5</td>\n",
       "      <td>24.9</td>\n",
       "      <td>84</td>\n",
       "      <td>173.1</td>\n",
       "      <td>0.64</td>\n",
       "    </tr>\n",
       "  </tbody>\n",
       "</table>\n",
       "</div>"
      ],
      "text/plain": [
       "  field_id  soil_ph  organic_matter  sand_pct  temperature  humidity  \\\n",
       "0   T00001     6.25            2.15      47.2         27.9        82   \n",
       "1   T00002     7.40            2.12      54.2         25.0        74   \n",
       "2   T00003     6.96            3.77      52.8         29.2        75   \n",
       "3   T00004     6.70            2.12      34.6         27.7        81   \n",
       "4   T00005     5.81            2.18      34.5         24.9        84   \n",
       "\n",
       "   rainfall  ndvi  \n",
       "0     176.5  0.60  \n",
       "1     167.5  0.50  \n",
       "2     155.1  0.43  \n",
       "3     123.6  0.45  \n",
       "4     173.1  0.64  "
      ]
     },
     "execution_count": 40,
     "metadata": {},
     "output_type": "execute_result"
    }
   ],
   "source": [
    "test_df.head()"
   ]
  }
 ],
 "metadata": {
  "kernelspec": {
   "display_name": "agriyield",
   "language": "python",
   "name": "python3"
  },
  "language_info": {
   "codemirror_mode": {
    "name": "ipython",
    "version": 3
   },
   "file_extension": ".py",
   "mimetype": "text/x-python",
   "name": "python",
   "nbconvert_exporter": "python",
   "pygments_lexer": "ipython3",
   "version": "3.11.13"
  }
 },
 "nbformat": 4,
 "nbformat_minor": 5
}
